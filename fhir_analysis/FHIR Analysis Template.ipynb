{
 "cells": [
  {
   "cell_type": "markdown",
   "id": "119fe447",
   "metadata": {},
   "source": [
    "# Load Packages"
   ]
  },
  {
   "cell_type": "code",
   "execution_count": null,
   "id": "71f77bb9",
   "metadata": {},
   "outputs": [],
   "source": [
    "# Add any needed packages\n",
    "\n",
    "from google.cloud import bigquery"
   ]
  },
  {
   "cell_type": "markdown",
   "id": "38cf771f",
   "metadata": {},
   "source": [
    "# Setup Connection"
   ]
  },
  {
   "cell_type": "code",
   "execution_count": null,
   "id": "b071f171",
   "metadata": {},
   "outputs": [],
   "source": [
    "# Fill in identifiers\n",
    "\n",
    "CURATION_PROJECT_ID = \"\"\n",
    "EHR_OPS_DATASET_ID = \"\"\n",
    "\n",
    "# Add any other needed identifiers"
   ]
  },
  {
   "cell_type": "code",
   "execution_count": null,
   "id": "8f06aed5",
   "metadata": {},
   "outputs": [],
   "source": [
    "client = bigquery.Client(project=CURATION_PROJECT_ID)"
   ]
  },
  {
   "cell_type": "markdown",
   "id": "3660f631",
   "metadata": {},
   "source": [
    "# Execute Queries"
   ]
  },
  {
   "cell_type": "markdown",
   "id": "be51ded1",
   "metadata": {},
   "source": [
    "## Query 1"
   ]
  },
  {
   "cell_type": "markdown",
   "id": "33ce4d63",
   "metadata": {},
   "source": [
    "Description: Pulls the first 10 rows in the measurement table"
   ]
  },
  {
   "cell_type": "code",
   "execution_count": null,
   "id": "3f9d2f3a",
   "metadata": {},
   "outputs": [],
   "source": [
    "# Define Query 1\n",
    "q1 = f\"\"\"\n",
    "    SELECT\n",
    "        *\n",
    "    FROM `{CURATION_PROJECT_ID}.{EHR_OPS_DATASET_ID}.unioned_ehr_measurement`\n",
    "    LIMIT 10\n",
    "\"\"\""
   ]
  },
  {
   "cell_type": "code",
   "execution_count": null,
   "id": "e1095b41",
   "metadata": {},
   "outputs": [],
   "source": [
    "results1 = client.query(q1).to_dataframe()\n",
    "results1"
   ]
  },
  {
   "cell_type": "markdown",
   "id": "a9d294ef",
   "metadata": {},
   "source": [
    "## Query 2"
   ]
  },
  {
   "cell_type": "markdown",
   "id": "c5cb83ef",
   "metadata": {},
   "source": [
    "Description: Pulls the first 10 rows in the procedure_occurrence table"
   ]
  },
  {
   "cell_type": "code",
   "execution_count": null,
   "id": "e9950c82",
   "metadata": {},
   "outputs": [],
   "source": [
    "# Define Query 2\n",
    "\n",
    "q2 = f\"\"\"\n",
    "    SELECT\n",
    "        *\n",
    "    FROM `{CURATION_PROJECT_ID}.{EHR_OPS_DATASET_ID}.unioned_ehr_procedure_occurrence`\n",
    "    LIMIT 10   \n",
    "\"\"\""
   ]
  },
  {
   "cell_type": "code",
   "execution_count": null,
   "id": "38dfd78e",
   "metadata": {},
   "outputs": [],
   "source": [
    "results2 = client.query(q2).to_dataframe()\n",
    "results2"
   ]
  }
 ],
 "metadata": {
  "kernelspec": {
   "display_name": "Python 3 (ipykernel)",
   "language": "python",
   "name": "python3"
  },
  "language_info": {
   "codemirror_mode": {
    "name": "ipython",
    "version": 3
   },
   "file_extension": ".py",
   "mimetype": "text/x-python",
   "name": "python",
   "nbconvert_exporter": "python",
   "pygments_lexer": "ipython3",
   "version": "3.9.2"
  }
 },
 "nbformat": 4,
 "nbformat_minor": 5
}
