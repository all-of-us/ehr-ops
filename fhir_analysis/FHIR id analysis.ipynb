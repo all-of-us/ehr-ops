{
 "cells": [
  {
   "cell_type": "markdown",
   "id": "119fe447",
   "metadata": {},
   "source": [
    "# Load Packages"
   ]
  },
  {
   "cell_type": "code",
   "execution_count": null,
   "id": "71f77bb9",
   "metadata": {},
   "outputs": [],
   "source": [
    "# Add any needed packages\n",
    "\n",
    "from google.cloud import bigquery"
   ]
  },
  {
   "cell_type": "markdown",
   "id": "38cf771f",
   "metadata": {},
   "source": [
    "# Setup Connection"
   ]
  },
  {
   "cell_type": "code",
   "execution_count": null,
   "id": "b071f171",
   "metadata": {},
   "outputs": [],
   "source": [
    "# Fill in identifiers\n",
    "\n",
    "EHR_OPS_PROJECT_ID = \"\"\n",
    "EXPORT_DATASET_ID = \"\"\n",
    "\n",
    "# Add any other needed identifiers\n",
    "EXPORT_DATASET2_ID = \"\""
   ]
  },
  {
   "cell_type": "code",
   "execution_count": null,
   "id": "8f06aed5",
   "metadata": {},
   "outputs": [],
   "source": [
    "client = bigquery.Client(project=EHR_OPS_PROJECT_ID)"
   ]
  },
  {
   "cell_type": "markdown",
   "id": "3660f631",
   "metadata": {},
   "source": [
    "# Execute Queries"
   ]
  },
  {
   "cell_type": "markdown",
   "id": "be51ded1",
   "metadata": {},
   "source": [
    "## FHIR Patient Resource identifiers"
   ]
  },
  {
   "cell_type": "markdown",
   "id": "33ce4d63",
   "metadata": {},
   "source": [
    "Description: Lists all identifiers associated with a FHIR Patient resource"
   ]
  },
  {
   "cell_type": "code",
   "execution_count": null,
   "id": "3f9d2f3a",
   "metadata": {},
   "outputs": [],
   "source": [
    "# Define Query 1\n",
    "q1 = f\"\"\"\n",
    "SELECT\n",
    "  id, identifier.system,\n",
    "  identifier.value, identifier.system,\n",
    "FROM `{EHR_OPS_PROJECT_ID}.{EXPORT_DATASET_ID}.Patient` p,\n",
    "UNNEST(p.identifier) AS identifier\n",
    "--WHERE p.id IN ('my_identifier_here')\n",
    "LIMIT 100\n",
    "\"\"\""
   ]
  },
  {
   "cell_type": "code",
   "execution_count": null,
   "id": "e1095b41",
   "metadata": {},
   "outputs": [],
   "source": [
    "results1 = client.query(q1).to_dataframe()\n",
    "results1"
   ]
  },
  {
   "cell_type": "markdown",
   "id": "a9d294ef",
   "metadata": {},
   "source": [
    "## FHIR Patients across Submissions"
   ]
  },
  {
   "cell_type": "markdown",
   "id": "c5cb83ef",
   "metadata": {},
   "source": [
    "Description: Identifies FHIR Patients submitted across submissions"
   ]
  },
  {
   "cell_type": "code",
   "execution_count": null,
   "id": "e9950c82",
   "metadata": {},
   "outputs": [],
   "source": [
    "# Define Query 2\n",
    "\n",
    "q2 = f\"\"\"\n",
    "    WITH med_identifier1 AS (\n",
    "      SELECT DISTINCT\n",
    "        md.id\n",
    "      FROM `{EHR_OPS_PROJECT_ID}.{EXPORT_DATASET_ID}.Patient` md,\n",
    "        UNNEST(md.identifier) local_identifier\n",
    "    ),\n",
    "    med_identifier2 AS (\n",
    "      SELECT DISTINCT\n",
    "        md.id\n",
    "      FROM `{EHR_OPS_PROJECT_ID}.{EXPORT_DATASET2_ID}.Patient` md,\n",
    "        UNNEST(md.identifier) local_identifier\n",
    "    )\n",
    "    SELECT\n",
    "      id\n",
    "    FROM med_identifier2 md2\n",
    "    EXCEPT DISTINCT\n",
    "    SELECT\n",
    "      id\n",
    "    FROM  med_identifier1 md\n",
    "\n",
    "\"\"\""
   ]
  },
  {
   "cell_type": "code",
   "execution_count": null,
   "id": "38dfd78e",
   "metadata": {},
   "outputs": [],
   "source": [
    "results2 = client.query(q2).to_dataframe()\n",
    "results2"
   ]
  }
 ],
 "metadata": {
  "kernelspec": {
   "display_name": "Python 3 (ipykernel)",
   "language": "python",
   "name": "python3"
  },
  "language_info": {
   "codemirror_mode": {
    "name": "ipython",
    "version": 3
   },
   "file_extension": ".py",
   "mimetype": "text/x-python",
   "name": "python",
   "nbconvert_exporter": "python",
   "pygments_lexer": "ipython3",
   "version": "3.9.2"
  }
 },
 "nbformat": 4,
 "nbformat_minor": 5
}
