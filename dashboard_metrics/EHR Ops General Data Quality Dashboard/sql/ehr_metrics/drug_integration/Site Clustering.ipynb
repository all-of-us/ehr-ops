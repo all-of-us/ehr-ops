{
 "cells": [
  {
   "cell_type": "markdown",
   "id": "9825584b",
   "metadata": {},
   "source": [
    "# Site Clustering"
   ]
  },
  {
   "cell_type": "code",
   "execution_count": null,
   "id": "37c7b552",
   "metadata": {},
   "outputs": [],
   "source": [
    "import pandas as pd\n",
    "from google.cloud import bigquery\n",
    "from sklearn.cluster import KMeans\n",
    "from sklearn.decomposition import PCA\n",
    "import umap\n",
    "import plotly.express as px\n",
    "import plotly.graph_objects as go\n",
    "import seaborn as sns\n",
    "import collections\n",
    "# import plotly.offline as pyo\n",
    "\n",
    "# pyo.init_notebook_mode()"
   ]
  },
  {
   "cell_type": "code",
   "execution_count": null,
   "id": "25415bb7",
   "metadata": {},
   "outputs": [],
   "source": [
    "curation_project_id = \"\"\n",
    "pdr_project_id = \"\"\n",
    "dataset_id = \"\""
   ]
  },
  {
   "cell_type": "markdown",
   "id": "01f56901",
   "metadata": {},
   "source": [
    "## Load Site Attributes"
   ]
  },
  {
   "cell_type": "code",
   "execution_count": null,
   "id": "aced9209",
   "metadata": {},
   "outputs": [],
   "source": [
    "site_attribute_query = f\"\"\"\n",
    "    -- participant size\n",
    "    WITH participant_size AS (\n",
    "      SELECT  src_hpo_id, COUNT(*) total\n",
    "      FROM `{curation_project_id}.{dataset_id}.unioned_ehr_person` p\n",
    "      JOIN `{curation_project_id}.{dataset_id}._mapping_person` mp\n",
    "        ON mp.person_id = p.person_id\n",
    "      GROUP BY src_hpo_id\n",
    "      ORDER BY total DESC\n",
    "    ),\n",
    "    -- outpatient/inpatient ratio\n",
    "    visit_type_size AS (\n",
    "      SELECT\n",
    "        src_hpo_id, IFNULL(OP, 0) OP, IFNULL(IP, 0) IP,\n",
    "        IFNULL(ER, 0) ER\n",
    "      FROM (\n",
    "        SELECT\n",
    "          src_hpo_id, anc_visit_concept.concept_code visit_type, COUNT(*) total\n",
    "        FROM `{curation_project_id}.{dataset_id}.unioned_ehr_visit_occurrence` vo\n",
    "        JOIN `{curation_project_id}.{dataset_id}._mapping_visit_occurrence` mvo\n",
    "          ON mvo.visit_occurrence_id = vo.visit_occurrence_id\n",
    "        JOIN `{curation_project_id}.{dataset_id}.concept` desc_visit_concept\n",
    "          ON desc_visit_concept.concept_id = vo.visit_concept_id\n",
    "        JOIN `{curation_project_id}.{dataset_id}.concept_ancestor` ca\n",
    "          ON ca.descendant_concept_id = vo.visit_concept_id\n",
    "        JOIN `{curation_project_id}.{dataset_id}.concept` anc_visit_concept\n",
    "          ON anc_visit_concept.concept_id = ca.ancestor_concept_id\n",
    "            AND anc_visit_concept.concept_code IN ('OP', 'IP', 'ER')\n",
    "        GROUP BY src_hpo_id, visit_type\n",
    "        ORDER BY total DESC\n",
    "      ) a\n",
    "      PIVOT (SUM(total) FOR visit_type IN ('OP', 'IP', 'ER'))\n",
    "    ),\n",
    "    consortium AS (\n",
    "    -- consortium\n",
    "      SELECT\n",
    "        LOWER(map.HPO_ID) src_hpo_id, hpo.name consortium\n",
    "      FROM `{curation_project_id}.lookup_tables.hpo_site_id_mappings` map\n",
    "      JOIN `{pdr_project_id}.rdr_ops_data_view.v_organization` org\n",
    "        ON map.Org_ID = org.external_id\n",
    "      JOIN `{pdr_project_id}.rdr_ops_data_view.v_hpo` hpo\n",
    "        ON hpo.hpo_id = org.hpo_id\n",
    "    ),\n",
    "    median_drug_exposure_years_elapsed AS (\n",
    "    -- median drug exposure\n",
    "        SELECT\n",
    "            src_hpo_id, AVG(DATE_DIFF(CURRENT_DATE(), drug_exposure_start_date, YEAR)) median_drug_exposure_years_elapsed\n",
    "        FROM `{curation_project_id}.{dataset_id}.unioned_ehr_drug_exposure` de\n",
    "        JOIN `{curation_project_id}.{dataset_id}._mapping_drug_exposure` mde\n",
    "            ON mde.drug_exposure_id = de.drug_exposure_id\n",
    "        GROUP BY src_hpo_id\n",
    "            \n",
    "    )\n",
    "    -- combined attributes\n",
    "    SELECT\n",
    "      ps.src_hpo_id, ps.total participant_size,\n",
    "      IP, OP, ER, con.consortium, median_drug_exposure_years_elapsed\n",
    "    FROM participant_size ps\n",
    "    JOIN visit_type_size vts\n",
    "      ON vts.src_hpo_id = ps.src_hpo_id\n",
    "    JOIN consortium con\n",
    "      ON con.src_hpo_id = ps.src_hpo_id\n",
    "    JOIN median_drug_exposure_years_elapsed mdes\n",
    "        ON mdes.src_hpo_id = ps.src_hpo_id\n",
    "    ORDER BY src_hpo_id\n",
    "\"\"\"\n",
    "\n",
    "client = bigquery.Client()\n",
    "site_attributes = client.query(site_attribute_query).to_dataframe()"
   ]
  },
  {
   "cell_type": "code",
   "execution_count": null,
   "id": "98b47ab4",
   "metadata": {},
   "outputs": [],
   "source": [
    "# Calculate more attributes\n",
    "site_attributes['IP/OP ratio'] = site_attributes['IP'] / site_attributes['OP']\n",
    "site_attributes['IP+ER'] = site_attributes['IP'] + site_attributes['ER']"
   ]
  },
  {
   "cell_type": "code",
   "execution_count": null,
   "id": "022fc157",
   "metadata": {},
   "outputs": [],
   "source": [
    "site_attributes"
   ]
  },
  {
   "cell_type": "markdown",
   "id": "e66e57d2",
   "metadata": {},
   "source": [
    "## Clustering Class"
   ]
  },
  {
   "cell_type": "code",
   "execution_count": null,
   "id": "a5dfb4d9",
   "metadata": {},
   "outputs": [],
   "source": [
    "class Cluster:\n",
    "    cluster_names_map = None\n",
    "    cluster_names = None\n",
    "\n",
    "    def __init__(self,\n",
    "                 data,\n",
    "                 cluster_target_col=None,\n",
    "                 cluster_attribute_cols=None,\n",
    "                 n_clusters=3,\n",
    "                 clustering_name=None):\n",
    "        assert cluster_target_col is not None and cluster_attribute_cols is not None\n",
    "\n",
    "        super().__init__()\n",
    "\n",
    "        if type(cluster_attribute_cols) == str:\n",
    "            cluster_attribute_cols = [cluster_attribute_cols]\n",
    "\n",
    "        attribute_distributions = data[cluster_attribute_cols].to_numpy()\n",
    "\n",
    "        print(\"Running KMeans...\")\n",
    "        kmeans = KMeans(n_clusters=n_clusters,\n",
    "                        random_state=0).fit(attribute_distributions)\n",
    "\n",
    "        self.data = data\n",
    "        self.cluster_labels = kmeans.labels_\n",
    "        self.cluster_targets = data[cluster_target_col]\n",
    "        self.cluster_attribute_cols = cluster_attribute_cols\n",
    "        self.attribute_distributions = attribute_distributions\n",
    "        self.n_clusters = n_clusters\n",
    "        self.clustering_name = clustering_name\n",
    "\n",
    "    def plot_distributions(self,\n",
    "                           yaxis_title=None,\n",
    "                           xaxis_title=None,\n",
    "                           title=None,\n",
    "                           **kwargs):\n",
    "        \n",
    "        if title is None:\n",
    "            title = f'{self.clustering_name} Cluster Distributions'\n",
    "        cluster_labels = self.cluster_names if self.cluster_names is not None else self.cluster_labels\n",
    "        fig = px.box(self.data,\n",
    "                     y=self.cluster_attribute_cols,\n",
    "                     facet_col=cluster_labels,\n",
    "                     title=title)\n",
    "\n",
    "        if yaxis_title and xaxis_title:\n",
    "            fig.update_layout(yaxis_title=yaxis_title, xaxis_title=xaxis_title)\n",
    "\n",
    "        return fig\n",
    "\n",
    "    def pca(self, title=None, **kwargs):\n",
    "        if title is None:\n",
    "            title = f'{self.clustering_name} PCA'\n",
    "        \n",
    "        n_components = min(2, len(self.cluster_attribute_cols))\n",
    "        pcs = PCA(n_components=n_components).fit_transform(\n",
    "            self.attribute_distributions)\n",
    "        \n",
    "        print(pcs.shape)\n",
    "\n",
    "        cluster_labels = self.cluster_names if self.cluster_names is not None else self.cluster_labels\n",
    "        \n",
    "        if n_components == 1:\n",
    "            \n",
    "            fig = px.scatter(x=pcs.flatten(),\n",
    "                             color=cluster_labels,\n",
    "                             text=self.cluster_targets,\n",
    "                             title=title)\n",
    "        else:\n",
    "            fig = px.scatter(x=pcs[:, 0],\n",
    "                             y=pcs[:, 1],\n",
    "                             color=cluster_labels,\n",
    "                             text=self.cluster_targets,\n",
    "                             title=title)\n",
    "\n",
    "        return fig\n",
    "\n",
    "    def umap(self, title=None, **kwargs):\n",
    "        if title is None:\n",
    "            title = f'{self.clustering_name} Cluster UMAP'\n",
    "            \n",
    "        reducer = umap.UMAP(min_dist=0)\n",
    "        umap_embedding = reducer.fit_transform(self.attribute_distributions)\n",
    "        cluster_labels = self.cluster_names if self.cluster_names is not None else self.cluster_labels\n",
    "        fig = px.scatter(x=umap_embedding[:, 0],\n",
    "                         y=umap_embedding[:, 1],\n",
    "                         color=cluster_labels,\n",
    "                         text=self.cluster_targets,\n",
    "                         title=title)\n",
    "\n",
    "        return fig\n",
    "\n",
    "    def assign_cluster_names(self, cluster_names):\n",
    "        assert len(cluster_names) == self.n_clusters\n",
    "\n",
    "        self.cluster_names_map = cluster_names\n",
    "        self.cluster_names = [\n",
    "            self.cluster_names_map[cluster_label]\n",
    "            for cluster_label in self.cluster_labels\n",
    "        ]\n",
    "\n",
    "    def member_counts(self):\n",
    "        if self.cluster_names is not None:\n",
    "            return collections.Counter(self.cluster_names)\n",
    "        else:\n",
    "            return collections.Counter(self.cluster_labels)"
   ]
  },
  {
   "cell_type": "markdown",
   "id": "36977d3e",
   "metadata": {},
   "source": [
    "## Cluster by Inpatient/Outpatient Ratio"
   ]
  },
  {
   "cell_type": "code",
   "execution_count": null,
   "id": "75bfa7a6",
   "metadata": {},
   "outputs": [],
   "source": [
    "ip_op_ratio_cluster = Cluster(site_attributes,\n",
    "                              cluster_target_col='src_hpo_id',\n",
    "                              cluster_attribute_cols='IP/OP ratio',\n",
    "                              n_clusters=3,\n",
    "                                  clustering_name='Inpatient/Outpatient Ratio')"
   ]
  },
  {
   "cell_type": "code",
   "execution_count": null,
   "id": "32ec9151",
   "metadata": {},
   "outputs": [],
   "source": [
    "ip_op_ratio_cluster.plot_distributions()"
   ]
  },
  {
   "cell_type": "code",
   "execution_count": null,
   "id": "2de065c8",
   "metadata": {},
   "outputs": [],
   "source": [
    "ip_op_ratio_cluster.pca()"
   ]
  },
  {
   "cell_type": "code",
   "execution_count": null,
   "id": "6fea8bf0",
   "metadata": {},
   "outputs": [],
   "source": [
    "ip_op_ratio_cluster.umap()"
   ]
  },
  {
   "cell_type": "code",
   "execution_count": null,
   "id": "05f95a60",
   "metadata": {},
   "outputs": [],
   "source": [
    "ip_op_ratio_cluster.assign_cluster_names(\n",
    "    ['low-ip/op-ratio', 'mid-ip/op-ratio', 'high-ip/op-ratio'])\n",
    "\n",
    "ip_op_ratio_cluster_member_counts = ip_op_ratio_cluster.member_counts()\n",
    "ip_op_ratio_cluster_member_counts"
   ]
  },
  {
   "cell_type": "markdown",
   "id": "093c5bca",
   "metadata": {},
   "source": [
    "## Cluster by Participant Size"
   ]
  },
  {
   "cell_type": "code",
   "execution_count": null,
   "id": "c3222000",
   "metadata": {},
   "outputs": [],
   "source": [
    "participant_size_cluster = Cluster(site_attributes,\n",
    "                              cluster_target_col='src_hpo_id',\n",
    "                              cluster_attribute_cols='participant_size',\n",
    "                              n_clusters=3,\n",
    "                                  clustering_name='Participant Size')"
   ]
  },
  {
   "cell_type": "code",
   "execution_count": null,
   "id": "ab63b7de",
   "metadata": {},
   "outputs": [],
   "source": [
    "participant_size_cluster.plot_distributions()"
   ]
  },
  {
   "cell_type": "code",
   "execution_count": null,
   "id": "8b4cbefb",
   "metadata": {},
   "outputs": [],
   "source": [
    "participant_size_cluster.pca()"
   ]
  },
  {
   "cell_type": "code",
   "execution_count": null,
   "id": "b0e08101",
   "metadata": {},
   "outputs": [],
   "source": [
    "participant_size_cluster.umap()"
   ]
  },
  {
   "cell_type": "code",
   "execution_count": null,
   "id": "108c916d",
   "metadata": {},
   "outputs": [],
   "source": [
    "participant_size_cluster.assign_cluster_names(\n",
    "    ['low-participant-size', 'high-participant-size', 'mid-participant-size'])\n",
    "\n",
    "participant_size_cluster_member_counts = participant_size_cluster.member_counts()\n",
    "participant_size_cluster_member_counts"
   ]
  },
  {
   "cell_type": "markdown",
   "id": "a3dc4a0f",
   "metadata": {},
   "source": [
    "## Cluster by Inpatient/Outpatient/Emergency Visit Magnitude"
   ]
  },
  {
   "cell_type": "code",
   "execution_count": null,
   "id": "61691562",
   "metadata": {},
   "outputs": [],
   "source": [
    "visit_magnitude_cluster = Cluster(site_attributes,\n",
    "                              cluster_target_col='src_hpo_id',\n",
    "                              cluster_attribute_cols=['IP', 'OP', 'ER'],\n",
    "                              n_clusters=3,\n",
    "                                  clustering_name='Visit Magnitude')"
   ]
  },
  {
   "cell_type": "code",
   "execution_count": null,
   "id": "d6fb5a33",
   "metadata": {},
   "outputs": [],
   "source": [
    "visit_magnitude_cluster.plot_distributions()"
   ]
  },
  {
   "cell_type": "code",
   "execution_count": null,
   "id": "3b7f6fd2",
   "metadata": {},
   "outputs": [],
   "source": [
    "visit_magnitude_cluster.pca()"
   ]
  },
  {
   "cell_type": "code",
   "execution_count": null,
   "id": "da8ff026",
   "metadata": {},
   "outputs": [],
   "source": [
    "visit_magnitude_cluster.umap()"
   ]
  },
  {
   "cell_type": "code",
   "execution_count": null,
   "id": "a6ebe2c2",
   "metadata": {},
   "outputs": [],
   "source": [
    "visit_magnitude_cluster.assign_cluster_names(\n",
    "    ['low-IP+ER-visit-size', 'mid-IP+ER-visit-size', 'high-IP+ER-visit-size'])\n",
    "\n",
    "visit_magnitude_cluster_member_counts = visit_magnitude_cluster.member_counts()\n",
    "visit_magnitude_cluster_member_counts"
   ]
  },
  {
   "cell_type": "markdown",
   "id": "3653a4ca",
   "metadata": {},
   "source": [
    "## Cluster by Median Drug Exposure Start Date"
   ]
  },
  {
   "cell_type": "code",
   "execution_count": null,
   "id": "9c99f15a",
   "metadata": {},
   "outputs": [],
   "source": [
    "drug_exposure_date_cluster = Cluster(site_attributes[site_attributes['src_hpo_id'] != 'ut_health_tyler'],\n",
    "                              cluster_target_col='src_hpo_id',\n",
    "                              cluster_attribute_cols='median_drug_exposure_years_elapsed',\n",
    "                              n_clusters=4,\n",
    "                                  clustering_name='Median Drug Exposure Start Date')"
   ]
  },
  {
   "cell_type": "code",
   "execution_count": null,
   "id": "052548e3",
   "metadata": {},
   "outputs": [],
   "source": [
    "drug_exposure_date_cluster.plot_distributions()"
   ]
  },
  {
   "cell_type": "code",
   "execution_count": null,
   "id": "efb75210",
   "metadata": {},
   "outputs": [],
   "source": [
    "drug_exposure_date_cluster.pca()"
   ]
  },
  {
   "cell_type": "code",
   "execution_count": null,
   "id": "0673bfa7",
   "metadata": {},
   "outputs": [],
   "source": [
    "drug_exposure_date_cluster.umap()"
   ]
  },
  {
   "cell_type": "code",
   "execution_count": null,
   "id": "488ec14d",
   "metadata": {},
   "outputs": [],
   "source": [
    "drug_exposure_date_cluster.member_counts()"
   ]
  },
  {
   "cell_type": "code",
   "execution_count": null,
   "id": "8dbe5c58",
   "metadata": {},
   "outputs": [],
   "source": [
    "# drug_exposure_date_cluster.assign_cluster_names(\n",
    "#     ['low-IP+ER-visit-size', 'mid-IP+ER-visit-size', 'high-IP+ER-visit-size'])\n",
    "\n",
    "# drug_exposure_date_cluster_member_counts = drug_exposure_date_cluster.member_counts()\n",
    "# drug_exposure_date_cluster_member_counts"
   ]
  }
 ],
 "metadata": {
  "kernelspec": {
   "display_name": "Python 3 (ipykernel)",
   "language": "python",
   "name": "python3"
  },
  "language_info": {
   "codemirror_mode": {
    "name": "ipython",
    "version": 3
   },
   "file_extension": ".py",
   "mimetype": "text/x-python",
   "name": "python",
   "nbconvert_exporter": "python",
   "pygments_lexer": "ipython3",
   "version": "3.9.2"
  }
 },
 "nbformat": 4,
 "nbformat_minor": 5
}
