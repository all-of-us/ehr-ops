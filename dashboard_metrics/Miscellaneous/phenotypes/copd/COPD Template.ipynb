{
 "cells": [
  {
   "cell_type": "markdown",
   "id": "893656dc",
   "metadata": {},
   "source": [
    "# Load Packages"
   ]
  },
  {
   "cell_type": "code",
   "execution_count": null,
   "id": "da5283e9",
   "metadata": {},
   "outputs": [],
   "source": [
    "# Add any needed packages\n",
    "\n",
    "from google.cloud import bigquery"
   ]
  },
  {
   "cell_type": "markdown",
   "id": "79c6c453",
   "metadata": {},
   "source": [
    "# Setup Connection"
   ]
  },
  {
   "cell_type": "code",
   "execution_count": null,
   "id": "abd70b72",
   "metadata": {},
   "outputs": [],
   "source": [
    "# Fill in identifiers\n",
    "\n",
    "CURATION_PROJECT_ID = \"\"\n",
    "EHR_OPS_DATASET_ID = \"\"\n",
    "\n",
    "# Add any other needed identifiers"
   ]
  },
  {
   "cell_type": "code",
   "execution_count": null,
   "id": "74be2f66",
   "metadata": {},
   "outputs": [],
   "source": [
    "client = bigquery.Client(project=CURATION_PROJECT_ID)"
   ]
  },
  {
   "cell_type": "markdown",
   "id": "d376abf0",
   "metadata": {},
   "source": [
    "# Execute Queries"
   ]
  },
  {
   "cell_type": "markdown",
   "id": "4f90fd7a",
   "metadata": {},
   "source": [
    "## Query 1"
   ]
  },
  {
   "cell_type": "code",
   "execution_count": null,
   "id": "383a5c04",
   "metadata": {},
   "outputs": [],
   "source": [
    "# Define Query 1\n",
    "q1 = f\"\"\"\n",
    "    SELECT\n",
    "        *\n",
    "    FROM `{CURATION_PROJECT_ID}.{EHR_OPS_DATASET_ID}.unioned_ehr_measurement`\n",
    "    LIMIT 10\n",
    "\"\"\""
   ]
  },
  {
   "cell_type": "code",
   "execution_count": null,
   "id": "c4481dc8",
   "metadata": {},
   "outputs": [],
   "source": [
    "results1 = client.query(q1).to_dataframe()\n",
    "results1"
   ]
  },
  {
   "cell_type": "markdown",
   "id": "f8fd60c1",
   "metadata": {},
   "source": [
    "## Query 2"
   ]
  },
  {
   "cell_type": "code",
   "execution_count": null,
   "id": "df66caeb",
   "metadata": {},
   "outputs": [],
   "source": [
    "# Define Query 2\n",
    "\n",
    "q2 = f\"\"\"\n",
    "    SELECT\n",
    "        *\n",
    "    FROM `{CURATION_PROJECT_ID}.{EHR_OPS_DATASET_ID}.unioned_ehr_procedure_occurrence`\n",
    "    LIMIT 10   \n",
    "\"\"\""
   ]
  },
  {
   "cell_type": "code",
   "execution_count": null,
   "id": "65bc0104",
   "metadata": {},
   "outputs": [],
   "source": [
    "results2 = client.query(q2).to_dataframe()\n",
    "results2"
   ]
  }
 ],
 "metadata": {
  "kernelspec": {
   "display_name": "Python 3 (ipykernel)",
   "language": "python",
   "name": "python3"
  },
  "language_info": {
   "codemirror_mode": {
    "name": "ipython",
    "version": 3
   },
   "file_extension": ".py",
   "mimetype": "text/x-python",
   "name": "python",
   "nbconvert_exporter": "python",
   "pygments_lexer": "ipython3",
   "version": "3.9.2"
  }
 },
 "nbformat": 4,
 "nbformat_minor": 5
}
