{
 "cells": [
  {
   "cell_type": "markdown",
   "id": "119fe447",
   "metadata": {},
   "source": [
    "# Load Packages"
   ]
  },
  {
   "cell_type": "code",
   "execution_count": null,
   "id": "71f77bb9",
   "metadata": {},
   "outputs": [],
   "source": [
    "# Add any needed packages\n",
    "import plotly.express as px\n",
    "from google.cloud import bigquery\n",
    "import networkx as nx\n",
    "from collections import defaultdict\n",
    "from pyvis.network import Network\n",
    "from tqdm import tqdm\n",
    "from scipy.interpolate import interp1d\n",
    "import numpy as np"
   ]
  },
  {
   "cell_type": "markdown",
   "id": "38cf771f",
   "metadata": {},
   "source": [
    "# Setup Connection"
   ]
  },
  {
   "cell_type": "code",
   "execution_count": null,
   "id": "b071f171",
   "metadata": {},
   "outputs": [],
   "source": [
    "# Fill in identifiers\n",
    "\n",
    "CURATION_PROJECT_ID = \"\"\n",
    "EHR_OPS_DATASET_ID = \"\"\n",
    "RDR_PROJECT_ID = \"\"\n",
    "RDR_DATASET_ID = \"\"\n",
    "COMBINED_DATASET_ID = \"\"\n",
    "\n",
    "# Add any other needed identifiers"
   ]
  },
  {
   "cell_type": "code",
   "execution_count": null,
   "id": "8f06aed5",
   "metadata": {},
   "outputs": [],
   "source": [
    "client = bigquery.Client(project=RDR_PROJECT_ID)"
   ]
  },
  {
   "cell_type": "markdown",
   "id": "848bca18",
   "metadata": {
    "collapsed": false,
    "jupyter": {
     "outputs_hidden": false
    }
   },
   "source": [
    "## Smoked 100 Cigs entire life"
   ]
  },
  {
   "cell_type": "markdown",
   "id": "33ce4d63",
   "metadata": {},
   "source": [
    "Description: Pulls the first 10 rows in the measurement table"
   ]
  },
  {
   "cell_type": "code",
   "execution_count": null,
   "id": "3f9d2f3a",
   "metadata": {},
   "outputs": [],
   "source": [
    "# Define Query 1\n",
    "q1 = f\"\"\"\n",
    "select distinct\n",
    "observation_concept_id,\n",
    "c2.concept_name as observation_concept_name,\n",
    "value_as_concept_id,\n",
    "c1.concept_name,\n",
    "count(distinct person_id) as pt_cnt,\n",
    "count(distinct person_id)/ (select count(distinct person_id) from `{CURATION_PROJECT_ID}.{COMBINED_DATASET_ID}.observation`) as pt_percent\n",
    "from `{CURATION_PROJECT_ID}.{COMBINED_DATASET_ID}.observation` o\n",
    "join `{CURATION_PROJECT_ID}.{COMBINED_DATASET_ID}.concept` c1\n",
    "on o.value_as_concept_id = c1.concept_id\n",
    "join `{CURATION_PROJECT_ID}.{COMBINED_DATASET_ID}.concept` c2\n",
    "on o.observation_concept_id = c2.concept_id\n",
    "where observation_concept_id = 40766306\n",
    "group by 1,2,3,4\n",
    "\"\"\""
   ]
  },
  {
   "cell_type": "code",
   "execution_count": null,
   "id": "e1095b41",
   "metadata": {},
   "outputs": [],
   "source": [
    "results1 = client.query(q1).to_dataframe()\n",
    "results1"
   ]
  },
  {
   "cell_type": "markdown",
   "id": "a9d294ef",
   "metadata": {},
   "source": [
    "## If Yes, do you now smoke cigarettes every day, some days, or not at all?"
   ]
  },
  {
   "cell_type": "markdown",
   "id": "c5cb83ef",
   "metadata": {},
   "source": [
    "Description: Pulls the first 10 rows in the procedure_occurrence table"
   ]
  },
  {
   "cell_type": "code",
   "execution_count": null,
   "id": "e9950c82",
   "metadata": {},
   "outputs": [],
   "source": [
    "# Define Query 2\n",
    "\n",
    "q2 = f\"\"\"\n",
    "select distinct\n",
    "observation_concept_id,\n",
    "c2.concept_name as observation_concept_name,\n",
    "value_as_concept_id,\n",
    "c1.concept_name,\n",
    "count(distinct person_id) as pt_cnt\n",
    "from `{CURATION_PROJECT_ID}.{COMBINED_DATASET_ID}.observation` o\n",
    "join `{CURATION_PROJECT_ID}.{COMBINED_DATASET_ID}.concept` c1\n",
    "on o.value_as_concept_id = c1.concept_id\n",
    "join `{CURATION_PROJECT_ID}.{COMBINED_DATASET_ID}.concept` c2\n",
    "on o.observation_concept_id = c2.concept_id\n",
    "where observation_concept_id = 40766307\n",
    "group by 1,2,3,4\n",
    "\"\"\""
   ]
  },
  {
   "cell_type": "code",
   "execution_count": null,
   "id": "38dfd78e",
   "metadata": {},
   "outputs": [],
   "source": [
    "results2 = client.query(q2).to_dataframe()\n",
    "results2['pt_percent'] = results2['pt_cnt']/results1[results1['concept_name'] == 'Yes']['pt_cnt'].values[0]\n",
    "results2"
   ]
  },
  {
   "cell_type": "code",
   "execution_count": null,
   "id": "0b3d77e3",
   "metadata": {
    "collapsed": false,
    "jupyter": {
     "outputs_hidden": false
    }
   },
   "outputs": [],
   "source": [
    "q_smoker = f\"\"\"\n",
    "select distinct person_id, 1 as current_smoker\n",
    "from `{CURATION_PROJECT_ID}.{COMBINED_DATASET_ID}.observation` o\n",
    "join `{CURATION_PROJECT_ID}.{COMBINED_DATASET_ID}.concept` c1\n",
    "on o.value_as_concept_id = c1.concept_id\n",
    "join `{CURATION_PROJECT_ID}.{COMBINED_DATASET_ID}.concept` c2\n",
    "on o.observation_concept_id = c2.concept_id\n",
    "where observation_concept_id = 40766307\n",
    "and value_as_concept_id in (45881677, 45883381)\n",
    "union distinct\n",
    "select distinct person_id, 0 as current_smoker\n",
    "from `{CURATION_PROJECT_ID}.{COMBINED_DATASET_ID}.observation` o\n",
    "join `{CURATION_PROJECT_ID}.{COMBINED_DATASET_ID}.concept` c1\n",
    "on o.value_as_concept_id = c1.concept_id\n",
    "join `{CURATION_PROJECT_ID}.{COMBINED_DATASET_ID}.concept` c2\n",
    "on o.observation_concept_id = c2.concept_id\n",
    "where observation_concept_id = 40766307\n",
    "and value_as_concept_id in (45883172)\n",
    "\"\"\""
   ]
  },
  {
   "cell_type": "code",
   "execution_count": null,
   "id": "7751a4b8",
   "metadata": {
    "collapsed": false,
    "jupyter": {
     "outputs_hidden": false
    }
   },
   "outputs": [],
   "source": [
    "current_smoking = client.query(q_smoker).to_dataframe()"
   ]
  },
  {
   "cell_type": "code",
   "execution_count": null,
   "id": "22491efe",
   "metadata": {
    "collapsed": false,
    "jupyter": {
     "outputs_hidden": false
    }
   },
   "outputs": [],
   "source": [
    "current_smoking.groupby('current_smoker').count()"
   ]
  },
  {
   "cell_type": "code",
   "execution_count": null,
   "id": "1dd7d47c",
   "metadata": {
    "collapsed": false,
    "jupyter": {
     "outputs_hidden": false
    }
   },
   "outputs": [],
   "source": [
    "results2['pt_percent'].sum()"
   ]
  },
  {
   "cell_type": "markdown",
   "id": "f09ee72d",
   "metadata": {
    "collapsed": false,
    "jupyter": {
     "outputs_hidden": false
    }
   },
   "source": [
    "## On average, how many cigarettes do you smoke per day now? (There are 20 cigarettes in a pack.)"
   ]
  },
  {
   "cell_type": "code",
   "execution_count": null,
   "id": "5a984ddb",
   "metadata": {
    "collapsed": false,
    "jupyter": {
     "outputs_hidden": false
    }
   },
   "outputs": [],
   "source": [
    "q3 = f\"\"\"\n",
    "select distinct\n",
    "observation_concept_id,\n",
    "c2.concept_name as observation_concept_name,\n",
    "c1.concept_name,\n",
    "NULL as value_as_number,\n",
    "value_as_concept_id,\n",
    "count(distinct person_id) as pt_cnt\n",
    "from `{CURATION_PROJECT_ID}.{COMBINED_DATASET_ID}.observation` o\n",
    "join `{CURATION_PROJECT_ID}.{COMBINED_DATASET_ID}.concept` c1\n",
    "on o.value_as_concept_id = c1.concept_id\n",
    "join `{CURATION_PROJECT_ID}.{COMBINED_DATASET_ID}.concept` c2\n",
    "on o.observation_concept_id = c2.concept_id\n",
    "where observation_concept_id = 40766929\n",
    "--and value_as_concept_id is not null\n",
    "group by 1,2,3,4,5\n",
    "union all\n",
    "select distinct\n",
    "observation_concept_id,\n",
    "c2.concept_name as observation_concept_name,\n",
    "'' as concept_name,\n",
    "value_as_number,\n",
    "NULL as value_as_concept_id,\n",
    "count(distinct person_id) as pt_cnt\n",
    "from `{CURATION_PROJECT_ID}.{COMBINED_DATASET_ID}.observation` o\n",
    "left join `{CURATION_PROJECT_ID}.{COMBINED_DATASET_ID}.concept` c1\n",
    "on o.value_as_concept_id = c1.concept_id\n",
    "join `{CURATION_PROJECT_ID}.{COMBINED_DATASET_ID}.concept` c2\n",
    "on o.observation_concept_id = c2.concept_id\n",
    "where observation_concept_id = 40766929\n",
    "--and value_as_number != 0\n",
    "--and value_as_number is not null\n",
    "group by 1,2,3,4,5\n",
    "order by pt_cnt desc\n",
    "\"\"\""
   ]
  },
  {
   "cell_type": "code",
   "execution_count": null,
   "id": "b7a7d489",
   "metadata": {
    "collapsed": false,
    "jupyter": {
     "outputs_hidden": false
    }
   },
   "outputs": [],
   "source": [
    "results3 = client.query(q3).to_dataframe()\n",
    "results3 = results3[results3['value_as_concept_id'].notnull() | results3['value_as_number'].notnull()]\n",
    "results3['pt_percent'] = results3['pt_cnt']/results1[(results1['concept_name'] == 'Yes')]['pt_cnt'].sum()"
   ]
  },
  {
   "cell_type": "code",
   "execution_count": null,
   "id": "bfaead60",
   "metadata": {
    "collapsed": false,
    "jupyter": {
     "outputs_hidden": false
    }
   },
   "outputs": [],
   "source": [
    "results3['pt_percent'].sum()"
   ]
  },
  {
   "cell_type": "code",
   "execution_count": null,
   "id": "9b749039",
   "metadata": {
    "collapsed": false,
    "jupyter": {
     "outputs_hidden": false
    }
   },
   "outputs": [],
   "source": [
    "results3['pt_cnt'].sum()"
   ]
  },
  {
   "cell_type": "code",
   "execution_count": null,
   "id": "7eea895b",
   "metadata": {
    "collapsed": false,
    "jupyter": {
     "outputs_hidden": false
    }
   },
   "outputs": [],
   "source": [
    "at_least_1_per_day = results3[results3['value_as_number'] >= 1]['pt_cnt'].sum()\n",
    "print(f'people who smoked at least 1 cigs per day: {at_least_1_per_day} \\npercentage of people who smoked at least 100 cigs: {at_least_1_per_day/results3[\"pt_cnt\"].sum()}')"
   ]
  },
  {
   "cell_type": "code",
   "execution_count": null,
   "id": "2563e615",
   "metadata": {
    "collapsed": false,
    "jupyter": {
     "outputs_hidden": false
    }
   },
   "outputs": [],
   "source": [
    "no_per_day = results3[results3['value_as_number'] == 0]['pt_cnt'].sum()\n",
    "print(f'people who smoked 0 cig per day {no_per_day} \\npercentage of people who smoked at least 100 cigs {no_per_day/results3[\"pt_cnt\"].sum()}')"
   ]
  },
  {
   "cell_type": "code",
   "execution_count": null,
   "id": "e8cba18b",
   "metadata": {
    "collapsed": false,
    "jupyter": {
     "outputs_hidden": false
    }
   },
   "outputs": [],
   "source": [
    "skip_unknown = results3[results3['value_as_concept_id'].notnull()]['pt_cnt'].sum()"
   ]
  },
  {
   "cell_type": "code",
   "execution_count": null,
   "id": "19971c02",
   "metadata": {
    "collapsed": false,
    "jupyter": {
     "outputs_hidden": false
    }
   },
   "outputs": [],
   "source": [
    "print(f'people who smoked 0 cig per day {skip_unknown} \\npercentage of people who smoked at least 100 cigs {skip_unknown/results3[\"pt_cnt\"].sum()}')"
   ]
  },
  {
   "cell_type": "code",
   "execution_count": null,
   "id": "0b4f2acd",
   "metadata": {
    "collapsed": false,
    "jupyter": {
     "outputs_hidden": false
    }
   },
   "outputs": [],
   "source": [
    "fig1 = px.bar(results3[results3['value_as_number'].notnull()][['value_as_number','pt_cnt']], x='value_as_number', y='pt_cnt',\n",
    "              labels={'value_as_number':'Number of cigarettes smoked per day',\n",
    "                      'pt_cnt':'Number of participants'}, log_y=False)"
   ]
  },
  {
   "cell_type": "code",
   "execution_count": null,
   "id": "87cf1710",
   "metadata": {
    "collapsed": false,
    "jupyter": {
     "outputs_hidden": false
    }
   },
   "outputs": [],
   "source": [
    "fig1.show()"
   ]
  },
  {
   "cell_type": "markdown",
   "id": "854bed8b-22d6-42b8-bab9-ac2a6eaf79ba",
   "metadata": {
    "collapsed": false,
    "jupyter": {
     "outputs_hidden": false
    }
   },
   "source": [
    "### How many years have you or did you smoke cigarettes?"
   ]
  },
  {
   "cell_type": "code",
   "execution_count": null,
   "id": "39f382f3-e0d8-4cbc-a107-69b9522ef2a8",
   "metadata": {},
   "outputs": [],
   "source": [
    "q4 = f\"\"\"\n",
    "select distinct\n",
    "observation_concept_id,\n",
    "c2.concept_name as observation_concept_name,\n",
    "c1.concept_name,\n",
    "NULL as value_as_number,\n",
    "value_as_concept_id,\n",
    "count(distinct person_id) as pt_cnt\n",
    "from `{CURATION_PROJECT_ID}.{COMBINED_DATASET_ID}.observation` o\n",
    "join `{CURATION_PROJECT_ID}.{COMBINED_DATASET_ID}.concept` c1\n",
    "on o.value_as_concept_id = c1.concept_id\n",
    "join `{CURATION_PROJECT_ID}.{COMBINED_DATASET_ID}.concept` c2\n",
    "on o.observation_concept_id = c2.concept_id\n",
    "where observation_concept_id = 40770349\n",
    "--and value_as_concept_id is not null\n",
    "group by 1,2,3,4,5\n",
    "union all\n",
    "select distinct\n",
    "observation_concept_id,\n",
    "c2.concept_name as observation_concept_name,\n",
    "'' as concept_name,\n",
    "value_as_number,\n",
    "NULL as value_as_concept_id,\n",
    "count(distinct person_id) as pt_cnt\n",
    "from `{CURATION_PROJECT_ID}.{COMBINED_DATASET_ID}.observation` o\n",
    "left join `{CURATION_PROJECT_ID}.{COMBINED_DATASET_ID}.concept` c1\n",
    "on o.value_as_concept_id = c1.concept_id\n",
    "join `{CURATION_PROJECT_ID}.{COMBINED_DATASET_ID}.concept` c2\n",
    "on o.observation_concept_id = c2.concept_id\n",
    "where observation_concept_id = 40770349\n",
    "group by 1,2,3,4,5\n",
    "order by pt_cnt desc\n",
    "\"\"\""
   ]
  },
  {
   "cell_type": "code",
   "execution_count": null,
   "id": "9e09cfb0-79d2-4426-bb21-bd7119e09737",
   "metadata": {},
   "outputs": [],
   "source": [
    "results4 = client.query(q4).to_dataframe()\n"
   ]
  },
  {
   "cell_type": "code",
   "execution_count": null,
   "id": "fd686182-300b-46b8-8fb6-e981d02671e0",
   "metadata": {},
   "outputs": [],
   "source": [
    "results4"
   ]
  },
  {
   "cell_type": "code",
   "execution_count": null,
   "id": "4d4a0f29-461f-413e-b3a1-998ecaa0f9e3",
   "metadata": {},
   "outputs": [],
   "source": [
    "fig = px.bar(results4[results4['value_as_number'].notnull()][['value_as_number','pt_cnt']], x='value_as_number', y='pt_cnt',\n",
    "             labels={'value_as_number':'Number of years smoked',\n",
    "                     'pt_cnt':'Number of participants'})"
   ]
  },
  {
   "cell_type": "code",
   "execution_count": null,
   "id": "9193cceb-97bb-467b-85bd-903e3fb11405",
   "metadata": {
    "scrolled": true
   },
   "outputs": [],
   "source": [
    "fig.show()"
   ]
  },
  {
   "cell_type": "markdown",
   "id": "a88ec3f5",
   "metadata": {
    "collapsed": false,
    "jupyter": {
     "outputs_hidden": false
    }
   },
   "source": [
    "### On average, over the entire time that you smoked, how many cigarettes did you smoke each day? (There are 20 cigarettes in a pack.)"
   ]
  },
  {
   "cell_type": "code",
   "execution_count": null,
   "id": "dca7ffb6",
   "metadata": {
    "collapsed": false,
    "jupyter": {
     "outputs_hidden": false
    }
   },
   "outputs": [],
   "source": [
    "q5 = f\"\"\"\n",
    "select distinct\n",
    "observation_concept_id,\n",
    "c2.concept_name as observation_concept_name,\n",
    "c1.concept_name,\n",
    "NULL as value_as_number,\n",
    "value_as_concept_id,\n",
    "count(distinct person_id) as pt_cnt\n",
    "from `{CURATION_PROJECT_ID}.{COMBINED_DATASET_ID}.observation` o\n",
    "join `{CURATION_PROJECT_ID}.{COMBINED_DATASET_ID}.concept` c1\n",
    "on o.value_as_concept_id = c1.concept_id\n",
    "join `{CURATION_PROJECT_ID}.{COMBINED_DATASET_ID}.concept` c2\n",
    "on o.observation_concept_id = c2.concept_id\n",
    "where observation_concept_id = 40766930\n",
    "--and value_as_concept_id is not null\n",
    "group by 1,2,3,4,5\n",
    "union all\n",
    "select distinct\n",
    "observation_concept_id,\n",
    "c2.concept_name as observation_concept_name,\n",
    "'' as concept_name,\n",
    "value_as_number,\n",
    "NULL as value_as_concept_id,\n",
    "count(distinct person_id) as pt_cnt\n",
    "from `{CURATION_PROJECT_ID}.{COMBINED_DATASET_ID}.observation` o\n",
    "left join `{CURATION_PROJECT_ID}.{COMBINED_DATASET_ID}.concept` c1\n",
    "on o.value_as_concept_id = c1.concept_id\n",
    "join `{CURATION_PROJECT_ID}.{COMBINED_DATASET_ID}.concept` c2\n",
    "on o.observation_concept_id = c2.concept_id\n",
    "where observation_concept_id = 40766930\n",
    "group by 1,2,3,4,5\n",
    "order by pt_cnt desc\n",
    "\"\"\""
   ]
  },
  {
   "cell_type": "code",
   "execution_count": null,
   "id": "13a45367",
   "metadata": {
    "collapsed": false,
    "jupyter": {
     "outputs_hidden": false
    }
   },
   "outputs": [],
   "source": [
    "results5 = client.query(q5).to_dataframe()"
   ]
  },
  {
   "cell_type": "code",
   "execution_count": null,
   "id": "37a66880",
   "metadata": {
    "collapsed": false,
    "jupyter": {
     "outputs_hidden": false
    }
   },
   "outputs": [],
   "source": [
    "results5"
   ]
  },
  {
   "cell_type": "code",
   "execution_count": null,
   "id": "6f96c7f7",
   "metadata": {
    "collapsed": false,
    "jupyter": {
     "outputs_hidden": false
    }
   },
   "outputs": [],
   "source": [
    "fig = px.bar(results5[results5['value_as_number'].notnull()][['value_as_number','pt_cnt']], x='value_as_number', y='pt_cnt')"
   ]
  },
  {
   "cell_type": "code",
   "execution_count": null,
   "id": "4665b777",
   "metadata": {
    "collapsed": false,
    "jupyter": {
     "outputs_hidden": false
    }
   },
   "outputs": [],
   "source": [
    "fig.show()"
   ]
  },
  {
   "cell_type": "markdown",
   "id": "b32f088b",
   "metadata": {
    "collapsed": false,
    "jupyter": {
     "outputs_hidden": false
    }
   },
   "source": [
    "### In the past, have you ever made a serious attempt to quit smoking? That is, have you stopped smoking for at least one day or longer because you were trying to quit?"
   ]
  },
  {
   "cell_type": "code",
   "execution_count": null,
   "id": "50168288",
   "metadata": {
    "collapsed": false,
    "jupyter": {
     "outputs_hidden": false
    }
   },
   "outputs": [],
   "source": [
    "q6 = f\"\"\"\n",
    "select distinct\n",
    "observation_concept_id,\n",
    "c2.concept_name as observation_concept_name,\n",
    "value_as_concept_id,\n",
    "c1.concept_name,\n",
    "count(distinct person_id) as pt_cnt\n",
    "from `{CURATION_PROJECT_ID}.{COMBINED_DATASET_ID}.observation` o\n",
    "join `{CURATION_PROJECT_ID}.{COMBINED_DATASET_ID}.concept` c1\n",
    "on o.value_as_concept_id = c1.concept_id\n",
    "join `{CURATION_PROJECT_ID}.{COMBINED_DATASET_ID}.concept` c2\n",
    "on o.observation_concept_id = c2.concept_id\n",
    "where observation_concept_id = 40766643\n",
    "group by 1,2,3,4\n",
    "\"\"\""
   ]
  },
  {
   "cell_type": "code",
   "execution_count": null,
   "id": "8eacbfad",
   "metadata": {
    "collapsed": false,
    "jupyter": {
     "outputs_hidden": false
    }
   },
   "outputs": [],
   "source": [
    "results6 = client.query(q6).to_dataframe()"
   ]
  },
  {
   "cell_type": "code",
   "execution_count": null,
   "id": "06b3348d",
   "metadata": {
    "collapsed": false,
    "jupyter": {
     "outputs_hidden": false
    }
   },
   "outputs": [],
   "source": [
    "results6"
   ]
  },
  {
   "cell_type": "code",
   "execution_count": null,
   "id": "3fd6c632",
   "metadata": {
    "collapsed": false,
    "jupyter": {
     "outputs_hidden": false
    }
   },
   "outputs": [],
   "source": [
    "results6['pt_percent'] = results6['pt_cnt']/results1[results1['concept_name'] == 'Yes']['pt_cnt'].values[0]"
   ]
  },
  {
   "cell_type": "code",
   "execution_count": null,
   "id": "41f5fdae",
   "metadata": {
    "collapsed": false,
    "jupyter": {
     "outputs_hidden": false
    }
   },
   "outputs": [],
   "source": [
    "results6"
   ]
  },
  {
   "cell_type": "markdown",
   "id": "c9d64d1b",
   "metadata": {
    "collapsed": false,
    "jupyter": {
     "outputs_hidden": false
    }
   },
   "source": [
    "### If you have completely stopped smoking cigarettes, how old were you when you stopped?"
   ]
  },
  {
   "cell_type": "code",
   "execution_count": null,
   "id": "92442a5f",
   "metadata": {
    "collapsed": false,
    "jupyter": {
     "outputs_hidden": false
    }
   },
   "outputs": [],
   "source": [
    "q7 = f\"\"\"\n",
    "select distinct\n",
    "observation_concept_id,\n",
    "c2.concept_name as observation_concept_name,\n",
    "c1.concept_name,\n",
    "NULL as value_as_number,\n",
    "value_as_concept_id,\n",
    "count(distinct person_id) as pt_cnt\n",
    "from `{CURATION_PROJECT_ID}.{COMBINED_DATASET_ID}.observation` o\n",
    "join `{CURATION_PROJECT_ID}.{COMBINED_DATASET_ID}.concept` c1\n",
    "on o.value_as_concept_id = c1.concept_id\n",
    "join `{CURATION_PROJECT_ID}.{COMBINED_DATASET_ID}.concept` c2\n",
    "on o.observation_concept_id = c2.concept_id\n",
    "where observation_concept_id = 1585870\n",
    "--and value_as_concept_id is not null\n",
    "group by 1,2,3,4,5\n",
    "union all\n",
    "select distinct\n",
    "observation_concept_id,\n",
    "c2.concept_name as observation_concept_name,\n",
    "'' as concept_name,\n",
    "value_as_number,\n",
    "NULL as value_as_concept_id,\n",
    "count(distinct person_id) as pt_cnt\n",
    "from `{CURATION_PROJECT_ID}.{COMBINED_DATASET_ID}.observation` o\n",
    "left join `{CURATION_PROJECT_ID}.{COMBINED_DATASET_ID}.concept` c1\n",
    "on o.value_as_concept_id = c1.concept_id\n",
    "join `{CURATION_PROJECT_ID}.{COMBINED_DATASET_ID}.concept` c2\n",
    "on o.observation_concept_id = c2.concept_id\n",
    "where observation_concept_id = 1585870\n",
    "group by 1,2,3,4,5\n",
    "order by pt_cnt desc\n",
    "\"\"\""
   ]
  },
  {
   "cell_type": "code",
   "execution_count": null,
   "id": "63ee85ee",
   "metadata": {
    "collapsed": false,
    "jupyter": {
     "outputs_hidden": false
    }
   },
   "outputs": [],
   "source": [
    "results7 = client.query(q7).to_dataframe()"
   ]
  },
  {
   "cell_type": "code",
   "execution_count": null,
   "id": "21a2960f",
   "metadata": {
    "collapsed": false,
    "jupyter": {
     "outputs_hidden": false
    }
   },
   "outputs": [],
   "source": [
    "results7"
   ]
  },
  {
   "cell_type": "code",
   "execution_count": null,
   "id": "ad6587c7",
   "metadata": {
    "collapsed": false,
    "jupyter": {
     "outputs_hidden": false
    }
   },
   "outputs": [],
   "source": [
    "fig = px.bar(results7[results7['value_as_number'].notnull()][['value_as_number','pt_cnt']], x='value_as_number', y='pt_cnt',\n",
    "             labels={'value_as_number':'Age at Quitting Smoking', 'pt_cnt':'Participant Count'})"
   ]
  },
  {
   "cell_type": "code",
   "execution_count": null,
   "id": "665f7a0c",
   "metadata": {
    "collapsed": false,
    "jupyter": {
     "outputs_hidden": false
    }
   },
   "outputs": [],
   "source": [
    "fig.show()"
   ]
  },
  {
   "cell_type": "markdown",
   "id": "46cb1a7c",
   "metadata": {
    "collapsed": false,
    "jupyter": {
     "outputs_hidden": false
    }
   },
   "source": [
    "### Electronic Smoking"
   ]
  },
  {
   "cell_type": "code",
   "execution_count": null,
   "id": "03dd0f5f",
   "metadata": {
    "collapsed": false,
    "jupyter": {
     "outputs_hidden": false
    }
   },
   "outputs": [],
   "source": [
    "q8 = f\"\"\"\n",
    "select distinct\n",
    "observation_concept_id,\n",
    "c2.concept_name as observation_concept_name,\n",
    "value_as_concept_id,\n",
    "c1.concept_name,\n",
    "count(distinct person_id) as pt_cnt\n",
    "from `{CURATION_PROJECT_ID}.{COMBINED_DATASET_ID}.observation` o\n",
    "join `{CURATION_PROJECT_ID}.{COMBINED_DATASET_ID}.concept` c1\n",
    "on o.value_as_concept_id = c1.concept_id\n",
    "join `{CURATION_PROJECT_ID}.{COMBINED_DATASET_ID}.concept` c2\n",
    "on o.observation_concept_id = c2.concept_id\n",
    "where observation_concept_id = 1586166\n",
    "group by 1,2,3,4\n",
    "\"\"\""
   ]
  },
  {
   "cell_type": "code",
   "execution_count": null,
   "id": "1755a9ad",
   "metadata": {
    "collapsed": false,
    "jupyter": {
     "outputs_hidden": false
    }
   },
   "outputs": [],
   "source": [
    "results8 = client.query(q8).to_dataframe()"
   ]
  },
  {
   "cell_type": "code",
   "execution_count": null,
   "id": "44182351",
   "metadata": {
    "collapsed": false,
    "jupyter": {
     "outputs_hidden": false
    }
   },
   "outputs": [],
   "source": [
    "results8['pt_percent'] = results8['pt_cnt']/results8['pt_cnt'].sum()"
   ]
  },
  {
   "cell_type": "code",
   "execution_count": null,
   "id": "48f1ced4",
   "metadata": {
    "collapsed": false,
    "jupyter": {
     "outputs_hidden": false
    }
   },
   "outputs": [],
   "source": [
    "results8"
   ]
  },
  {
   "cell_type": "markdown",
   "id": "7421d596",
   "metadata": {
    "collapsed": false,
    "jupyter": {
     "outputs_hidden": false
    }
   },
   "source": [
    "### Have you ever smoked tobacco in a hookah, even one or two puffs?"
   ]
  },
  {
   "cell_type": "code",
   "execution_count": null,
   "id": "cb2be46f",
   "metadata": {
    "collapsed": false,
    "jupyter": {
     "outputs_hidden": false
    }
   },
   "outputs": [],
   "source": [
    "q9 = f\"\"\"\n",
    "select distinct\n",
    "observation_concept_id,\n",
    "c2.concept_name as observation_concept_name,\n",
    "value_as_concept_id,\n",
    "c1.concept_name,\n",
    "count(distinct person_id) as pt_cnt\n",
    "from `{CURATION_PROJECT_ID}.{COMBINED_DATASET_ID}.observation` o\n",
    "join `{CURATION_PROJECT_ID}.{COMBINED_DATASET_ID}.concept` c1\n",
    "on o.value_as_concept_id = c1.concept_id\n",
    "join `{CURATION_PROJECT_ID}.{COMBINED_DATASET_ID}.concept` c2\n",
    "on o.observation_concept_id = c2.concept_id\n",
    "where observation_concept_id = 1586182\n",
    "group by 1,2,3,4\n",
    "\"\"\""
   ]
  },
  {
   "cell_type": "code",
   "execution_count": null,
   "id": "351d5f99",
   "metadata": {
    "collapsed": false,
    "jupyter": {
     "outputs_hidden": false
    }
   },
   "outputs": [],
   "source": [
    "results9 = client.query(q9).to_dataframe()"
   ]
  },
  {
   "cell_type": "code",
   "execution_count": null,
   "id": "b7c77ab1",
   "metadata": {
    "collapsed": false,
    "jupyter": {
     "outputs_hidden": false
    }
   },
   "outputs": [],
   "source": [
    "results9['pt_percent'] = results9['pt_cnt']/results9['pt_cnt'].sum()"
   ]
  },
  {
   "cell_type": "code",
   "execution_count": null,
   "id": "0f7eab4b",
   "metadata": {
    "collapsed": false,
    "jupyter": {
     "outputs_hidden": false
    }
   },
   "outputs": [],
   "source": [
    "results9"
   ]
  },
  {
   "cell_type": "markdown",
   "id": "60a268b3",
   "metadata": {
    "collapsed": false,
    "jupyter": {
     "outputs_hidden": false
    }
   },
   "source": [
    "### Have you ever smoked a traditional cigar, cigarillo, or filtered cigar, even one or two puffs?"
   ]
  },
  {
   "cell_type": "code",
   "execution_count": null,
   "id": "770316af",
   "metadata": {
    "collapsed": false,
    "jupyter": {
     "outputs_hidden": false
    }
   },
   "outputs": [],
   "source": [
    "q10 = f\"\"\"\n",
    "select distinct\n",
    "observation_concept_id,\n",
    "c2.concept_name as observation_concept_name,\n",
    "value_as_concept_id,\n",
    "c1.concept_name,\n",
    "count(distinct person_id) as pt_cnt\n",
    "from `{CURATION_PROJECT_ID}.{COMBINED_DATASET_ID}.observation` o\n",
    "join `{CURATION_PROJECT_ID}.{COMBINED_DATASET_ID}.concept` c1\n",
    "on o.value_as_concept_id = c1.concept_id\n",
    "join `{CURATION_PROJECT_ID}.{COMBINED_DATASET_ID}.concept` c2\n",
    "on o.observation_concept_id = c2.concept_id\n",
    "where observation_concept_id = 1586174\n",
    "group by 1,2,3,4\n",
    "\"\"\""
   ]
  },
  {
   "cell_type": "code",
   "execution_count": null,
   "id": "573303f5",
   "metadata": {
    "collapsed": false,
    "jupyter": {
     "outputs_hidden": false
    }
   },
   "outputs": [],
   "source": [
    "results10 = client.query(q10).to_dataframe()"
   ]
  },
  {
   "cell_type": "code",
   "execution_count": null,
   "id": "d281ae85",
   "metadata": {
    "collapsed": false,
    "jupyter": {
     "outputs_hidden": false
    }
   },
   "outputs": [],
   "source": [
    "results10['pt_percent'] = results10['pt_cnt']/results10['pt_cnt'].sum()"
   ]
  },
  {
   "cell_type": "code",
   "execution_count": null,
   "id": "4546d307",
   "metadata": {
    "collapsed": false,
    "jupyter": {
     "outputs_hidden": false
    }
   },
   "outputs": [],
   "source": [
    "results10"
   ]
  },
  {
   "cell_type": "markdown",
   "id": "5a20ecd8",
   "metadata": {
    "collapsed": false,
    "jupyter": {
     "outputs_hidden": false
    }
   },
   "source": [
    "### Occupational lung disorder"
   ]
  },
  {
   "cell_type": "code",
   "execution_count": null,
   "id": "e2057f79",
   "metadata": {
    "collapsed": false,
    "jupyter": {
     "outputs_hidden": false
    }
   },
   "outputs": [],
   "source": [
    "q11 = f\"\"\"\n",
    "select distinct\n",
    "condition_concept_id,\n",
    "c1.concept_name as condition_concept_name,\n",
    "count(distinct person_id) as pt_cnt\n",
    "from `{CURATION_PROJECT_ID}.{COMBINED_DATASET_ID}.condition_occurrence` c\n",
    "join `{CURATION_PROJECT_ID}.{COMBINED_DATASET_ID}.concept` c1\n",
    "on c.condition_concept_id = c1.concept_id\n",
    "join `{CURATION_PROJECT_ID}.{COMBINED_DATASET_ID}.concept_ancestor` c2\n",
    "on c.condition_concept_id = c2.descendant_concept_id\n",
    "where c2.ancestor_concept_id = 4312754\n",
    "group by 1,2\n",
    "\"\"\""
   ]
  },
  {
   "cell_type": "code",
   "execution_count": null,
   "id": "7c7341e9",
   "metadata": {
    "collapsed": false,
    "jupyter": {
     "outputs_hidden": false
    }
   },
   "outputs": [],
   "source": [
    "results11 = client.query(q11).to_dataframe()"
   ]
  },
  {
   "cell_type": "code",
   "execution_count": null,
   "id": "c52e9e0b",
   "metadata": {
    "collapsed": false,
    "jupyter": {
     "outputs_hidden": false
    }
   },
   "outputs": [],
   "source": [
    "results11['pt_percent'] = results11['pt_cnt']/results11['pt_cnt'].sum()"
   ]
  },
  {
   "cell_type": "code",
   "execution_count": null,
   "id": "08e1df0b",
   "metadata": {
    "collapsed": false,
    "jupyter": {
     "outputs_hidden": false
    }
   },
   "outputs": [],
   "source": [
    "results11"
   ]
  },
  {
   "cell_type": "markdown",
   "id": "2b731e0b",
   "metadata": {
    "collapsed": false,
    "jupyter": {
     "outputs_hidden": false
    }
   },
   "source": [
    "### Obstructive Lung Disease Hx (Asthma, COPD, bronchitis)\n",
    "#### Are you still seeing a doctor or health care provider for chronic lung disease (COPD, emphysema, or bronchitis)?"
   ]
  },
  {
   "cell_type": "code",
   "execution_count": null,
   "id": "034c268a",
   "metadata": {
    "collapsed": false,
    "jupyter": {
     "outputs_hidden": false
    }
   },
   "outputs": [],
   "source": [
    "q12 = f\"\"\"\n",
    "select distinct\n",
    "o.observation_concept_id,\n",
    "c1.concept_name as observation_concept_name,\n",
    "count(distinct person_id) as pt_cnt\n",
    "from `{CURATION_PROJECT_ID}.{COMBINED_DATASET_ID}.observation` o\n",
    "join `{CURATION_PROJECT_ID}.{COMBINED_DATASET_ID}.concept` c1\n",
    "on o.observation_concept_id = c1.concept_id\n",
    "join `{CURATION_PROJECT_ID}.{COMBINED_DATASET_ID}.concept_ancestor` c2\n",
    "on o.observation_concept_id = c2.descendant_concept_id\n",
    "where c2.ancestor_concept_id = 1384608\n",
    "group by 1,2\n",
    "\"\"\""
   ]
  },
  {
   "cell_type": "code",
   "execution_count": null,
   "id": "fa7c66c2",
   "metadata": {
    "collapsed": false,
    "jupyter": {
     "outputs_hidden": false
    }
   },
   "outputs": [],
   "source": [
    "results12 = client.query(q12).to_dataframe()"
   ]
  },
  {
   "cell_type": "code",
   "execution_count": null,
   "id": "307ae07e",
   "metadata": {
    "collapsed": false,
    "jupyter": {
     "outputs_hidden": false
    }
   },
   "outputs": [],
   "source": [
    "results12['pt_percent'] = results12['pt_cnt']/results12['pt_cnt'].sum()"
   ]
  },
  {
   "cell_type": "code",
   "execution_count": null,
   "id": "867085fc",
   "metadata": {
    "collapsed": false,
    "jupyter": {
     "outputs_hidden": false
    }
   },
   "outputs": [],
   "source": [
    "results12"
   ]
  },
  {
   "cell_type": "markdown",
   "id": "a1310c23",
   "metadata": {
    "collapsed": false,
    "jupyter": {
     "outputs_hidden": false
    }
   },
   "source": [
    "#### About how old were you when you were first told you had chronic lung disease (COPD, emphysema, or bronchitis)?"
   ]
  },
  {
   "cell_type": "code",
   "execution_count": null,
   "id": "b9852ccb",
   "metadata": {
    "collapsed": false,
    "jupyter": {
     "outputs_hidden": false
    }
   },
   "outputs": [],
   "source": [
    "q13 = f\"\"\"\n",
    "select distinct\n",
    "observation_concept_id,\n",
    "c2.concept_name as observation_concept_name,\n",
    "c1.concept_name,\n",
    "value_as_concept_id,\n",
    "count(distinct person_id) as pt_cnt\n",
    "from `{CURATION_PROJECT_ID}.{COMBINED_DATASET_ID}.observation` o\n",
    "join `{CURATION_PROJECT_ID}.{COMBINED_DATASET_ID}.concept` c1\n",
    "on o.value_as_concept_id = c1.concept_id\n",
    "join `{CURATION_PROJECT_ID}.{COMBINED_DATASET_ID}.concept` c2\n",
    "on o.observation_concept_id = c2.concept_id\n",
    "where observation_concept_id = 1384393\n",
    "--and value_as_concept_id is not null\n",
    "group by 1,2,3,4\n",
    "\"\"\""
   ]
  },
  {
   "cell_type": "code",
   "execution_count": null,
   "id": "0a080a90",
   "metadata": {
    "collapsed": false,
    "jupyter": {
     "outputs_hidden": false
    }
   },
   "outputs": [],
   "source": [
    "results13 = client.query(q13).to_dataframe()"
   ]
  },
  {
   "cell_type": "code",
   "execution_count": null,
   "id": "cf611024",
   "metadata": {
    "collapsed": false,
    "jupyter": {
     "outputs_hidden": false
    }
   },
   "outputs": [],
   "source": [
    "results13['pt_percent'] = results13['pt_cnt']/results13['pt_cnt'].sum()"
   ]
  },
  {
   "cell_type": "code",
   "execution_count": null,
   "id": "d725112b",
   "metadata": {
    "collapsed": false,
    "jupyter": {
     "outputs_hidden": false
    }
   },
   "outputs": [],
   "source": [
    "results13"
   ]
  },
  {
   "cell_type": "code",
   "execution_count": null,
   "id": "e82e4042",
   "metadata": {
    "collapsed": false,
    "jupyter": {
     "outputs_hidden": false
    }
   },
   "outputs": [],
   "source": [
    "fig = px.pie(results13, values='pt_cnt', names='concept_name', title='Age of first diagnosis of COPD, emphysema, or bronchitis')"
   ]
  },
  {
   "cell_type": "code",
   "execution_count": null,
   "id": "c411eb07",
   "metadata": {
    "collapsed": false,
    "jupyter": {
     "outputs_hidden": false
    }
   },
   "outputs": [],
   "source": [
    "fig.show()"
   ]
  },
  {
   "cell_type": "markdown",
   "id": "65ede2e0",
   "metadata": {
    "collapsed": false,
    "jupyter": {
     "outputs_hidden": false
    }
   },
   "source": [
    "#### Are you still seeing a doctor or health care provider for asthma?"
   ]
  },
  {
   "cell_type": "code",
   "execution_count": null,
   "id": "31930585",
   "metadata": {
    "collapsed": false,
    "jupyter": {
     "outputs_hidden": false
    }
   },
   "outputs": [],
   "source": [
    "q14 = f\"\"\"\n",
    "select distinct\n",
    "o.observation_concept_id,\n",
    "c1.concept_name as observation_concept_name,\n",
    "count(distinct person_id) as pt_cnt\n",
    "from `{CURATION_PROJECT_ID}.{COMBINED_DATASET_ID}.observation` o\n",
    "join `{CURATION_PROJECT_ID}.{COMBINED_DATASET_ID}.concept` c1\n",
    "on o.observation_concept_id = c1.concept_id\n",
    "join `{CURATION_PROJECT_ID}.{COMBINED_DATASET_ID}.concept_ancestor` c2\n",
    "on o.observation_concept_id = c2.descendant_concept_id\n",
    "where c2.ancestor_concept_id = 43530388\n",
    "group by 1,2\n",
    "\"\"\""
   ]
  },
  {
   "cell_type": "code",
   "execution_count": null,
   "id": "e8a6af7f",
   "metadata": {
    "collapsed": false,
    "jupyter": {
     "outputs_hidden": false
    }
   },
   "outputs": [],
   "source": [
    "results14 = client.query(q14).to_dataframe()"
   ]
  },
  {
   "cell_type": "code",
   "execution_count": null,
   "id": "e464f399",
   "metadata": {
    "collapsed": false,
    "jupyter": {
     "outputs_hidden": false
    }
   },
   "outputs": [],
   "source": [
    "results14['pt_percent'] = results14['pt_cnt']/results14['pt_cnt'].sum()"
   ]
  },
  {
   "cell_type": "code",
   "execution_count": null,
   "id": "1a2a8397",
   "metadata": {
    "collapsed": false,
    "jupyter": {
     "outputs_hidden": false
    }
   },
   "outputs": [],
   "source": [
    "results14"
   ]
  },
  {
   "cell_type": "markdown",
   "id": "4467ecbc",
   "metadata": {
    "collapsed": false,
    "jupyter": {
     "outputs_hidden": false
    }
   },
   "source": [
    "#### About how old were you when you were first told you had asthma?"
   ]
  },
  {
   "cell_type": "code",
   "execution_count": null,
   "id": "01b2eb7c",
   "metadata": {
    "collapsed": false,
    "jupyter": {
     "outputs_hidden": false
    }
   },
   "outputs": [],
   "source": [
    "q15 = f\"\"\"\n",
    "select distinct\n",
    "observation_concept_id,\n",
    "c2.concept_name as observation_concept_name,\n",
    "c1.concept_name,\n",
    "value_as_concept_id,\n",
    "count(distinct person_id) as pt_cnt\n",
    "from `{CURATION_PROJECT_ID}.{COMBINED_DATASET_ID}.observation` o\n",
    "join `{CURATION_PROJECT_ID}.{COMBINED_DATASET_ID}.concept` c1\n",
    "on o.value_as_concept_id = c1.concept_id\n",
    "join `{CURATION_PROJECT_ID}.{COMBINED_DATASET_ID}.concept` c2\n",
    "on o.observation_concept_id = c2.concept_id\n",
    "where observation_concept_id = 43530546\n",
    "--and value_as_concept_id is not null\n",
    "group by 1,2,3,4\n",
    "\"\"\""
   ]
  },
  {
   "cell_type": "code",
   "execution_count": null,
   "id": "777f42e3",
   "metadata": {
    "collapsed": false,
    "jupyter": {
     "outputs_hidden": false
    }
   },
   "outputs": [],
   "source": [
    "results15 = client.query(q15).to_dataframe()"
   ]
  },
  {
   "cell_type": "code",
   "execution_count": null,
   "id": "35188c6f",
   "metadata": {
    "collapsed": false,
    "jupyter": {
     "outputs_hidden": false
    }
   },
   "outputs": [],
   "source": [
    "results15['pt_percent'] = results15['pt_cnt']/results15['pt_cnt'].sum()"
   ]
  },
  {
   "cell_type": "code",
   "execution_count": null,
   "id": "e0e8c4fe",
   "metadata": {
    "collapsed": false,
    "jupyter": {
     "outputs_hidden": false
    }
   },
   "outputs": [],
   "source": [
    "results15"
   ]
  },
  {
   "cell_type": "code",
   "execution_count": null,
   "id": "ac462cf4",
   "metadata": {
    "collapsed": false,
    "jupyter": {
     "outputs_hidden": false
    }
   },
   "outputs": [],
   "source": [
    "fig = px.pie(results15, values='pt_cnt', names='concept_name', title='Age at first asthma diagnosis')"
   ]
  },
  {
   "cell_type": "code",
   "execution_count": null,
   "id": "32d2aaa8",
   "metadata": {
    "collapsed": false,
    "jupyter": {
     "outputs_hidden": false
    }
   },
   "outputs": [],
   "source": [
    "fig.show()"
   ]
  },
  {
   "cell_type": "markdown",
   "id": "dd621e3a",
   "metadata": {
    "collapsed": false,
    "jupyter": {
     "outputs_hidden": false
    }
   },
   "source": [
    "### Network Graph"
   ]
  },
  {
   "cell_type": "code",
   "execution_count": null,
   "id": "0b650dc6",
   "metadata": {
    "collapsed": false,
    "jupyter": {
     "outputs_hidden": false
    }
   },
   "outputs": [],
   "source": [
    "copd_social_family_hx_concept_ids = [\n",
    "    1585856, # Lifestyle - Smoking\n",
    "    1384561 # Personal Medical History: Respiratory\n",
    "]"
   ]
  },
  {
   "cell_type": "code",
   "execution_count": null,
   "id": "0a659d9b",
   "metadata": {
    "collapsed": false,
    "jupyter": {
     "outputs_hidden": false
    }
   },
   "outputs": [],
   "source": [
    "q_concept = f\"\"\"\n",
    "\n",
    "WITH RECURSIVE\n",
    "  base_concepts AS (\n",
    "    SELECT\n",
    "      *\n",
    "    FROM `{CURATION_PROJECT_ID}.{COMBINED_DATASET_ID}.concept` c\n",
    "    WHERE c.concept_id IN (1585856, 1384561)\n",
    "  ),\n",
    "  concept_children AS (\n",
    "      SELECT\n",
    "          concept_id child_concept_id, NULL parent_concept_id\n",
    "      FROM base_concepts\n",
    "      UNION ALL\n",
    "      SELECT cr.concept_id_1 child_concept_id, cr.concept_id_2 parent_concept_id\n",
    "      FROM concept_children par\n",
    "      JOIN `{CURATION_PROJECT_ID}.{COMBINED_DATASET_ID}.concept_relationship` cr\n",
    "          ON cr.concept_id_2 = par.child_concept_id\n",
    "              AND cr.relationship_id = 'Is a'\n",
    "  )\n",
    "  SELECT DISTINCT\n",
    "    child_concept_id, child_concept.concept_name child_concept_name, child_concept.domain_id child_concept_domain,\n",
    "    parent_concept_id, parent_concept.concept_name parent_concept_name, parent_concept.domain_id parent_concept_domain\n",
    "  FROM concept_children cc\n",
    "  JOIN `{CURATION_PROJECT_ID}.{COMBINED_DATASET_ID}.concept` child_concept\n",
    "    ON child_concept.concept_id = cc.child_concept_id\n",
    "  JOIN `{CURATION_PROJECT_ID}.{COMBINED_DATASET_ID}.concept` parent_concept\n",
    "    ON parent_concept.concept_id = cc.parent_concept_id\n",
    "\"\"\"\n",
    "\n",
    "results = client.query(q_concept).to_dataframe()\n",
    "results"
   ]
  },
  {
   "cell_type": "code",
   "execution_count": null,
   "id": "9ba8509a",
   "metadata": {
    "collapsed": false,
    "jupyter": {
     "outputs_hidden": false
    }
   },
   "outputs": [],
   "source": [
    "# Define Query 1\n",
    "q_nx = f\"\"\"\n",
    "    SELECT\n",
    "        t.observation_id event_id, par_c.domain_id domain_id, t.observation_date event_date,\n",
    "        par_c.concept_id ancestor_concept_id, par_c.concept_name ancestor_concept_name,\n",
    "        chd_c.concept_id child_concept_id, chd_c.concept_name child_concept_name\n",
    "    FROM `{CURATION_PROJECT_ID}.{COMBINED_DATASET_ID}.observation` t\n",
    "    JOIN `{CURATION_PROJECT_ID}.{COMBINED_DATASET_ID}.concept` chd_c\n",
    "      ON chd_c.concept_id = t.observation_concept_id\n",
    "    JOIN `{CURATION_PROJECT_ID}.{COMBINED_DATASET_ID}.concept_ancestor` ca\n",
    "      ON ca.descendant_concept_id = chd_c.concept_id\n",
    "    JOIN `{CURATION_PROJECT_ID}.{COMBINED_DATASET_ID}.concept` par_c\n",
    "      ON par_c.concept_id = ca.ancestor_concept_id\n",
    "        AND par_c.concept_id IN ({\", \".join(map(str, copd_social_family_hx_concept_ids))})\n",
    "        AND par_c.domain_id = 'Observation'\n",
    "\n",
    "\"\"\""
   ]
  },
  {
   "cell_type": "code",
   "execution_count": null,
   "id": "b7875dba",
   "metadata": {
    "collapsed": false,
    "jupyter": {
     "outputs_hidden": false
    }
   },
   "outputs": [],
   "source": [
    "copd_concept_events = client.query(q_nx).to_dataframe()\n",
    "copd_concept_events"
   ]
  },
  {
   "cell_type": "code",
   "execution_count": null,
   "id": "a6907365",
   "metadata": {
    "collapsed": false,
    "jupyter": {
     "outputs_hidden": false
    }
   },
   "outputs": [],
   "source": [
    "dict(copd_concept_events.child_concept_id.value_counts())"
   ]
  },
  {
   "cell_type": "markdown",
   "id": "bb73a26c",
   "metadata": {
    "collapsed": false,
    "jupyter": {
     "outputs_hidden": false
    }
   },
   "source": [
    "### Build Network Graph"
   ]
  },
  {
   "cell_type": "code",
   "execution_count": null,
   "id": "569e983f",
   "metadata": {
    "collapsed": false,
    "jupyter": {
     "outputs_hidden": false
    }
   },
   "outputs": [],
   "source": [
    "def build_nx_graph(rel_df, concept_counts={}):\n",
    "    rel_df['child_concept_id'] = rel_df['child_concept_id'].astype(int)\n",
    "    rel_df['parent_concept_id'] = rel_df['parent_concept_id'].astype(int)\n",
    "\n",
    "    colors = defaultdict(lambda: 'gray')\n",
    "    colors.update({'Condition': 'blue', 'Procedure': 'red'})\n",
    "    G = nx.DiGraph()\n",
    "\n",
    "    interp_concept_counts = {}\n",
    "    if concept_counts:\n",
    "        f = np.interp(list(concept_counts.values()),\n",
    "            [0,\n",
    "             np.median(list(concept_counts.values())),\n",
    "             max(concept_counts.values())], [1, 10, 20])\n",
    "\n",
    "        interp_concept_counts = dict(zip(list(concept_counts.keys()), f))\n",
    "\n",
    "    for i, rel in tqdm(rel_df.iterrows()):\n",
    "        child_node_size = 1\n",
    "        child_count = 0\n",
    "        parent_node_size = 1\n",
    "        parent_count=0\n",
    "\n",
    "        if interp_concept_counts:\n",
    "            if rel['child_concept_id'] in interp_concept_counts:\n",
    "                child_node_size = interp_concept_counts[\n",
    "                    rel['child_concept_id']]\n",
    "\n",
    "                child_count = concept_counts[rel['child_concept_id']]\n",
    "\n",
    "            if rel['parent_concept_id'] in interp_concept_counts:\n",
    "                parent_node_size = interp_concept_counts[\n",
    "                    rel['parent_concept_id']]\n",
    "\n",
    "                parent_count = concept_counts[rel['parent_concept_id']]\n",
    "\n",
    "        G.add_node(str(rel['child_concept_id']),\n",
    "                   concept_id=rel['child_concept_id'],\n",
    "                   concept_name=rel['child_concept_name'],\n",
    "                   title=f\"{rel['child_concept_name']}\\nCount: {child_count}\",\n",
    "                   domain_id=rel['child_concept_domain'],\n",
    "                   color=colors[rel['child_concept_domain']],\n",
    "                   size=child_node_size,\n",
    "                  )\n",
    "\n",
    "        G.add_node(str(rel['parent_concept_id']),\n",
    "                   concept_id=rel['parent_concept_id'],\n",
    "                   concept_name=rel['parent_concept_name'],\n",
    "                   title=f\"{rel['parent_concept_name']}\\nCount: {parent_count}\",\n",
    "                   domain_id=rel['parent_concept_domain'],\n",
    "                   color=colors[rel['parent_concept_domain']],\n",
    "                   size=parent_node_size)\n",
    "\n",
    "        G.add_edge(rel['parent_concept_id'], rel['child_concept_id'], id=i)\n",
    "\n",
    "    return G"
   ]
  },
  {
   "cell_type": "code",
   "execution_count": null,
   "id": "d8847909",
   "metadata": {
    "collapsed": false,
    "jupyter": {
     "outputs_hidden": false
    }
   },
   "outputs": [],
   "source": [
    "nx_graph = build_nx_graph(results, dict(copd_concept_events.child_concept_id.value_counts()))"
   ]
  },
  {
   "cell_type": "code",
   "execution_count": null,
   "id": "d301d6e3",
   "metadata": {
    "collapsed": false,
    "jupyter": {
     "outputs_hidden": false
    }
   },
   "outputs": [],
   "source": [
    "nt = Network('1000px', '1000px', notebook=True, directed=True, cdn_resources='in_line')\n",
    "nt.from_nx(nx_graph)\n",
    "nt.repulsion()\n",
    "nt.show('nx.html')"
   ]
  }
 ],
 "metadata": {
  "kernelspec": {
   "display_name": "Python 3 (ipykernel)",
   "language": "python",
   "name": "python3"
  },
  "language_info": {
   "codemirror_mode": {
    "name": "ipython",
    "version": 3
   },
   "file_extension": ".py",
   "mimetype": "text/x-python",
   "name": "python",
   "nbconvert_exporter": "python",
   "pygments_lexer": "ipython3",
   "version": "3.9.13"
  }
 },
 "nbformat": 4,
 "nbformat_minor": 5
}
