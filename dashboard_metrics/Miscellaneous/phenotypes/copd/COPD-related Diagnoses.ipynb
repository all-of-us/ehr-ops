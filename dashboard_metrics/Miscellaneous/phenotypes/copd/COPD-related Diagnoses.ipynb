{
 "cells": [
  {
   "cell_type": "markdown",
   "id": "119fe447",
   "metadata": {},
   "source": [
    "# Load Packages"
   ]
  },
  {
   "cell_type": "code",
   "execution_count": null,
   "id": "71f77bb9",
   "metadata": {},
   "outputs": [],
   "source": [
    "# Add any needed packages\n",
    "%load_ext autoreload\n",
    "%autoreload 2\n",
    "\n",
    "from google.cloud import bigquery\n",
    "import networkx as nx\n",
    "from collections import defaultdict\n",
    "from pyvis.network import Network\n",
    "from tqdm import tqdm\n",
    "from scipy.interpolate import interp1d\n",
    "import numpy as np"
   ]
  },
  {
   "cell_type": "markdown",
   "id": "38cf771f",
   "metadata": {},
   "source": [
    "# Setup Connection"
   ]
  },
  {
   "cell_type": "code",
   "execution_count": null,
   "id": "b071f171",
   "metadata": {},
   "outputs": [],
   "source": [
    "# Fill in identifiers\n",
    "\n",
    "CURATION_PROJECT_ID = \"\"\n",
    "EHR_OPS_DATASET_ID = \"\"\n",
    "\n",
    "# Add any other needed identifiers"
   ]
  },
  {
   "cell_type": "code",
   "execution_count": null,
   "id": "8f06aed5",
   "metadata": {},
   "outputs": [],
   "source": [
    "client = bigquery.Client(project=CURATION_PROJECT_ID)"
   ]
  },
  {
   "cell_type": "markdown",
   "id": "3660f631",
   "metadata": {},
   "source": [
    "# Execute Queries"
   ]
  },
  {
   "cell_type": "markdown",
   "id": "be51ded1",
   "metadata": {},
   "source": [
    "## Query 1: COPD-related Diagnosis Occurrences"
   ]
  },
  {
   "cell_type": "markdown",
   "id": "33ce4d63",
   "metadata": {},
   "source": [
    "Description: Finds occurrences of useful concepts for COPD diagnosis"
   ]
  },
  {
   "cell_type": "code",
   "execution_count": null,
   "id": "f3c4edaf",
   "metadata": {},
   "outputs": [],
   "source": [
    "copd_diagnosis_concept_ids = [\n",
    "    255573, # COPD\n",
    "    4337138, #lung transplant  \n",
    "    4222731, # bronchitis obliterans\n",
    "    317009, # asthma\n",
    "    256449, # bronchiectasis\n",
    "]"
   ]
  },
  {
   "cell_type": "code",
   "execution_count": null,
   "id": "62a73ccd",
   "metadata": {},
   "outputs": [],
   "source": [
    "q = f\"\"\"\n",
    "    \n",
    "WITH RECURSIVE \n",
    "  base_concepts AS (\n",
    "    SELECT\n",
    "      *\n",
    "    FROM `aou-res-curation-prod.ehr_ops.concept` c\n",
    "    WHERE c.concept_id IN (\n",
    "    255573, # COPD\n",
    "    4337138, #lung transplant  \n",
    "    4222731, # bronchitis obliterans\n",
    "    317009, # asthma\n",
    "    256449 # bronchiectasis\n",
    "    )\n",
    "  ),\n",
    "  concept_children AS (\n",
    "      SELECT\n",
    "          concept_id child_concept_id, NULL parent_concept_id\n",
    "      FROM base_concepts\n",
    "      UNION ALL\n",
    "      SELECT cr.concept_id_1 child_concept_id, cr.concept_id_2 parent_concept_id\n",
    "      FROM concept_children par\n",
    "      JOIN `aou-res-curation-prod.ehr_ops.concept_relationship` cr\n",
    "          ON cr.concept_id_2 = par.child_concept_id\n",
    "              AND cr.relationship_id = 'Is a'\n",
    "  )\n",
    "  SELECT DISTINCT\n",
    "    child_concept_id, child_concept.concept_name child_concept_name, child_concept.domain_id child_concept_domain,\n",
    "    parent_concept_id, parent_concept.concept_name parent_concept_name, parent_concept.domain_id parent_concept_domain\n",
    "  FROM concept_children cc\n",
    "  JOIN `aou-res-curation-prod.ehr_ops.concept` child_concept\n",
    "    ON child_concept.concept_id = cc.child_concept_id\n",
    "  JOIN `aou-res-curation-prod.ehr_ops.concept` parent_concept\n",
    "    ON parent_concept.concept_id = cc.parent_concept_id\n",
    "\"\"\"\n",
    "\n",
    "results = client.query(q).to_dataframe()\n",
    "results"
   ]
  },
  {
   "cell_type": "markdown",
   "id": "95573698",
   "metadata": {},
   "source": [
    "## Query 2: COPD-related Diagnosis Hierarchy"
   ]
  },
  {
   "cell_type": "code",
   "execution_count": null,
   "id": "84bbe811",
   "metadata": {},
   "outputs": [],
   "source": [
    "# Define Query 1\n",
    "q = f\"\"\"\n",
    "    SELECT\n",
    "        t.procedure_occurrence_id event_id, par_c.domain_id domain_id, t.procedure_date event_date,\n",
    "        par_c.concept_id ancestor_concept_id, par_c.concept_name ancestor_concept_name,\n",
    "        chd_c.concept_id child_concept_id, chd_c.concept_name child_concept_name\n",
    "    FROM `{CURATION_PROJECT_ID}.{EHR_OPS_DATASET_ID}.unioned_ehr_procedure_occurrence` t\n",
    "    JOIN `{CURATION_PROJECT_ID}.{EHR_OPS_DATASET_ID}.concept` chd_c\n",
    "      ON chd_c.concept_id = t.procedure_concept_id\n",
    "    JOIN `{CURATION_PROJECT_ID}.{EHR_OPS_DATASET_ID}.concept_ancestor` ca\n",
    "      ON ca.descendant_concept_id = chd_c.concept_id\n",
    "    JOIN `{CURATION_PROJECT_ID}.{EHR_OPS_DATASET_ID}.concept` par_c\n",
    "      ON par_c.concept_id = ca.ancestor_concept_id\n",
    "        AND par_c.concept_id IN ({\", \".join(map(str, copd_diagnosis_concept_ids))})\n",
    "        AND par_c.domain_id = 'Procedure'\n",
    "    UNION ALL\n",
    "    SELECT\n",
    "        t.condition_occurrence_id event_id, par_c.domain_id domain_id, t.condition_start_date event_date,\n",
    "        par_c.concept_id ancestor_concept_id, par_c.concept_name ancestor_concept_name,\n",
    "        chd_c.concept_id child_concept_id, chd_c.concept_name child_concept_name\n",
    "    FROM `{CURATION_PROJECT_ID}.{EHR_OPS_DATASET_ID}.unioned_ehr_condition_occurrence` t\n",
    "    JOIN `{CURATION_PROJECT_ID}.{EHR_OPS_DATASET_ID}.concept` chd_c\n",
    "      ON chd_c.concept_id = t.condition_concept_id\n",
    "    JOIN `{CURATION_PROJECT_ID}.{EHR_OPS_DATASET_ID}.concept_ancestor` ca\n",
    "      ON ca.descendant_concept_id = chd_c.concept_id\n",
    "    JOIN `{CURATION_PROJECT_ID}.{EHR_OPS_DATASET_ID}.concept` par_c\n",
    "      ON par_c.concept_id = ca.ancestor_concept_id\n",
    "        AND par_c.concept_id IN ({\", \".join(map(str, copd_diagnosis_concept_ids))})\n",
    "        AND par_c.domain_id = 'Condition'\n",
    "    UNION ALL\n",
    "    SELECT\n",
    "        t.observation_id event_id, par_c.domain_id domain_id, t.observation_date event_date,\n",
    "        par_c.concept_id ancestor_concept_id, par_c.concept_name ancestor_concept_name,\n",
    "        chd_c.concept_id child_concept_id, chd_c.concept_name child_concept_name\n",
    "    FROM `{CURATION_PROJECT_ID}.{EHR_OPS_DATASET_ID}.unioned_ehr_observation` t\n",
    "    JOIN `{CURATION_PROJECT_ID}.{EHR_OPS_DATASET_ID}.concept` chd_c\n",
    "      ON chd_c.concept_id = t.observation_concept_id\n",
    "    JOIN `{CURATION_PROJECT_ID}.{EHR_OPS_DATASET_ID}.concept_ancestor` ca\n",
    "      ON ca.descendant_concept_id = chd_c.concept_id\n",
    "    JOIN `{CURATION_PROJECT_ID}.{EHR_OPS_DATASET_ID}.concept` par_c\n",
    "      ON par_c.concept_id = ca.ancestor_concept_id\n",
    "        AND par_c.concept_id IN ({\", \".join(map(str, copd_diagnosis_concept_ids))})\n",
    "        AND par_c.domain_id = 'Observation'\n",
    "    \n",
    "\"\"\""
   ]
  },
  {
   "cell_type": "code",
   "execution_count": null,
   "id": "4f8a94c1",
   "metadata": {
    "scrolled": true
   },
   "outputs": [],
   "source": [
    "copd_concept_events = client.query(q).to_dataframe()\n",
    "copd_concept_events"
   ]
  },
  {
   "cell_type": "code",
   "execution_count": null,
   "id": "e6a4b63d",
   "metadata": {},
   "outputs": [],
   "source": [
    "dict(copd_concept_events.child_concept_id.value_counts())"
   ]
  },
  {
   "cell_type": "markdown",
   "id": "8206dd7b",
   "metadata": {},
   "source": [
    "# Build Network Graph"
   ]
  },
  {
   "cell_type": "code",
   "execution_count": null,
   "id": "81372009",
   "metadata": {},
   "outputs": [],
   "source": [
    "def build_nx_graph(rel_df, concept_counts={}):\n",
    "    rel_df['child_concept_id'] = rel_df['child_concept_id'].astype(int)\n",
    "    rel_df['parent_concept_id'] = rel_df['parent_concept_id'].astype(int)\n",
    "\n",
    "    colors = defaultdict(lambda: 'gray')\n",
    "    colors.update({'Condition': 'blue', 'Procedure': 'red'})\n",
    "    G = nx.DiGraph()\n",
    "\n",
    "    interp_concept_counts = {}\n",
    "    if concept_counts:\n",
    "        f = np.interp(list(concept_counts.values()),\n",
    "            [0,\n",
    "             np.median(list(concept_counts.values())),\n",
    "             max(concept_counts.values())], [1, 10, 20])\n",
    "        \n",
    "        interp_concept_counts = dict(zip(list(concept_counts.keys()), f))\n",
    "\n",
    "    for i, rel in tqdm(rel_df.iterrows()):\n",
    "        child_node_size = 1\n",
    "        child_count = 0\n",
    "        parent_node_size = 1\n",
    "        parent_count=0\n",
    "        \n",
    "        if interp_concept_counts:\n",
    "            if rel['child_concept_id'] in interp_concept_counts:\n",
    "                child_node_size = interp_concept_counts[\n",
    "                    rel['child_concept_id']]\n",
    "                \n",
    "                child_count = concept_counts[rel['child_concept_id']]\n",
    "\n",
    "            if rel['parent_concept_id'] in interp_concept_counts:\n",
    "                parent_node_size = interp_concept_counts[\n",
    "                    rel['parent_concept_id']]\n",
    "                \n",
    "                parent_count = concept_counts[rel['parent_concept_id']]\n",
    "                \n",
    "        G.add_node(str(rel['child_concept_id']),\n",
    "                   concept_id=rel['child_concept_id'],\n",
    "                   concept_name=rel['child_concept_name'],\n",
    "                   title=f\"{rel['child_concept_name']}\\nCount: {child_count}\",\n",
    "                   domain_id=rel['child_concept_domain'],\n",
    "                   color=colors[rel['child_concept_domain']],\n",
    "                   size=child_node_size,\n",
    "                  )\n",
    "\n",
    "        G.add_node(str(rel['parent_concept_id']),\n",
    "                   concept_id=rel['parent_concept_id'],\n",
    "                   concept_name=rel['parent_concept_name'],\n",
    "                   title=f\"{rel['parent_concept_name']}\\nCount: {parent_count}\",\n",
    "                   domain_id=rel['parent_concept_domain'],\n",
    "                   color=colors[rel['parent_concept_domain']],\n",
    "                   size=parent_node_size)\n",
    "\n",
    "        G.add_edge(rel['parent_concept_id'], rel['child_concept_id'], id=i)\n",
    "\n",
    "    return G"
   ]
  },
  {
   "cell_type": "code",
   "execution_count": null,
   "id": "155453e1",
   "metadata": {},
   "outputs": [],
   "source": [
    "nx_graph = build_nx_graph(results, dict(copd_concept_events.child_concept_id.value_counts()))"
   ]
  },
  {
   "cell_type": "code",
   "execution_count": null,
   "id": "a8807589",
   "metadata": {},
   "outputs": [],
   "source": [
    "nt = Network('1000px', '1000px', notebook=True,directed = True)\n",
    "nt.from_nx(nx_graph) \n",
    "nt.repulsion()\n",
    "nt.show('nx.html')"
   ]
  }
 ],
 "metadata": {
  "kernelspec": {
   "display_name": "Python 3 (ipykernel)",
   "language": "python",
   "name": "python3"
  },
  "language_info": {
   "codemirror_mode": {
    "name": "ipython",
    "version": 3
   },
   "file_extension": ".py",
   "mimetype": "text/x-python",
   "name": "python",
   "nbconvert_exporter": "python",
   "pygments_lexer": "ipython3",
   "version": "3.9.2"
  }
 },
 "nbformat": 4,
 "nbformat_minor": 5
}
