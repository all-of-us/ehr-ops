{
 "cells": [
  {
   "cell_type": "markdown",
   "id": "119fe447",
   "metadata": {},
   "source": [
    "# Load Packages"
   ]
  },
  {
   "cell_type": "code",
   "execution_count": 1,
   "id": "71f77bb9",
   "metadata": {
    "ExecuteTime": {
     "end_time": "2024-01-24T22:10:29.828674Z",
     "start_time": "2024-01-24T22:10:29.185843Z"
    }
   },
   "outputs": [],
   "source": [
    "# Add any needed packages\n",
    "\n",
    "from google.cloud import bigquery"
   ]
  },
  {
   "cell_type": "markdown",
   "id": "38cf771f",
   "metadata": {},
   "source": [
    "# Setup Connection"
   ]
  },
  {
   "cell_type": "code",
   "execution_count": null,
   "id": "b071f171",
   "metadata": {},
   "outputs": [],
   "source": [
    "# Fill in identifiers\n",
    "\n",
    "CURATION_PROJECT_ID = \"\"\n",
    "EHR_OPS_DATASET_ID = \"\"\n",
    "\n",
    "# Add any other needed identifiers"
   ]
  },
  {
   "cell_type": "code",
   "execution_count": null,
   "id": "8f06aed5",
   "metadata": {},
   "outputs": [],
   "source": [
    "client = bigquery.Client(project=CURATION_PROJECT_ID)"
   ]
  },
  {
   "cell_type": "markdown",
   "id": "3660f631",
   "metadata": {},
   "source": [
    "# EHR Density vs Diversity\n",
    "\n",
    "## EHR Density Equation:\n",
    "2/n + (n-2)/n * (1 - ((n-1)*Var(gi; i= 1,2,..., n-1))**1/2\n",
    "gi = (x_(i+1)-x_i)/(x_n-x_1)\n",
    "n is the number of times that a participant was observed or had a clinical event (condition, laboratory test, medication, or procedure)\n",
    "i is the observation or clinical event number\n",
    "x_(i+1)-x_i is the time gap between two consecutive observations\n",
    "x_n-x_1 is the time gap between the first and last observation\n",
    "\n",
    "equation reference: https://www.ncbi.nlm.nih.gov/pmc/articles/PMC9196700/bin/ocac046_supplementary_data.zip\n",
    "\n",
    "\n"
   ]
  },
  {
   "cell_type": "markdown",
   "id": "be51ded1",
   "metadata": {},
   "source": [
    "## UBR vs. RBR \n",
    "### (for each individual UBR group as well as specifics on UBR R/E)"
   ]
  },
  {
   "cell_type": "code",
   "execution_count": null,
   "id": "3f9d2f3a",
   "metadata": {},
   "outputs": [],
   "source": [
    "# Define Query 1\n",
    "q1 = f\"\"\"\n",
    "    SELECT\n",
    "        *\n",
    "    FROM `{CURATION_PROJECT_ID}.{EHR_OPS_DATASET_ID}.unioned_ehr_measurement`\n",
    "    LIMIT 10\n",
    "\"\"\""
   ]
  },
  {
   "cell_type": "code",
   "execution_count": null,
   "id": "e1095b41",
   "metadata": {},
   "outputs": [],
   "source": [
    "results1 = client.query(q1).to_dataframe()\n",
    "results1"
   ]
  },
  {
   "cell_type": "markdown",
   "source": [
    "## Remote vs. in-person biosample donation"
   ],
   "metadata": {
    "collapsed": false
   },
   "id": "39845afe9d690e33"
  },
  {
   "cell_type": "code",
   "outputs": [],
   "source": [],
   "metadata": {
    "collapsed": false
   },
   "id": "1827f4a8e8d9dcdb"
  },
  {
   "cell_type": "markdown",
   "source": [
    "## Patient vs. non-patient status at HPO"
   ],
   "metadata": {
    "collapsed": false
   },
   "id": "75d960bb7dbfefc5"
  },
  {
   "cell_type": "code",
   "outputs": [],
   "source": [],
   "metadata": {
    "collapsed": false
   },
   "id": "b6508d42be8aa2b3"
  },
  {
   "cell_type": "markdown",
   "source": [
    "## The average number of EHR records per participant across each domain\n",
    "#### - Conditions\n",
    "#### - Procedures\n",
    "#### - Drugs\n",
    "#### - Labs and measurements\n",
    "#### - Visits\n",
    "#### - Observations\n",
    "#### - Devices"
   ],
   "metadata": {
    "collapsed": false
   },
   "id": "791294230e4fb856"
  },
  {
   "cell_type": "code",
   "outputs": [],
   "source": [],
   "metadata": {
    "collapsed": false
   },
   "id": "f6b8413115724031"
  },
  {
   "cell_type": "markdown",
   "source": [
    "## The average duration between the first and last EHR record per participant across each of the above domains"
   ],
   "metadata": {
    "collapsed": false
   },
   "id": "547162d1af7cc098"
  },
  {
   "cell_type": "code",
   "outputs": [],
   "source": [],
   "metadata": {
    "collapsed": false
   },
   "id": "defec5425e030c70"
  },
  {
   "cell_type": "markdown",
   "source": [],
   "metadata": {
    "collapsed": false
   },
   "id": "2601469b45d99f9"
  },
  {
   "cell_type": "code",
   "outputs": [],
   "source": [],
   "metadata": {
    "collapsed": false
   },
   "id": "39939571d1fdb0"
  }
 ],
 "metadata": {
  "kernelspec": {
   "display_name": "Python 3 (ipykernel)",
   "language": "python",
   "name": "python3"
  },
  "language_info": {
   "codemirror_mode": {
    "name": "ipython",
    "version": 3
   },
   "file_extension": ".py",
   "mimetype": "text/x-python",
   "name": "python",
   "nbconvert_exporter": "python",
   "pygments_lexer": "ipython3",
   "version": "3.9.2"
  }
 },
 "nbformat": 4,
 "nbformat_minor": 5
}
