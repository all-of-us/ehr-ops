{
 "cells": [
  {
   "cell_type": "markdown",
   "id": "119fe447",
   "metadata": {},
   "source": [
    "# Load Packages"
   ]
  },
  {
   "cell_type": "code",
   "execution_count": null,
   "id": "71f77bb9",
   "metadata": {},
   "outputs": [],
   "source": [
    "# Add any needed packages\n",
    "\n",
    "from google.cloud import bigquery\n",
    "import seaborn as sns\n",
    "from scipy.stats import ttest_ind_from_stats"
   ]
  },
  {
   "cell_type": "markdown",
   "id": "38cf771f",
   "metadata": {},
   "source": [
    "# Setup Connection"
   ]
  },
  {
   "cell_type": "code",
   "execution_count": null,
   "id": "b071f171",
   "metadata": {},
   "outputs": [],
   "source": [
    "# Fill in identifiers\n",
    "\n",
    "CURATION_PROJECT_ID = \"\"\n",
    "EHR_OPS_DATASET_ID = \"\"\n",
    "PDR_PROJECT_ID = \"\"\n",
    "RDR_DATASET_ID = \"\"\n",
    "EHR_OPS_PROJECT_ID = \"\"\n",
    "EHR_DENSITY_DATASET_ID = \"\"\n",
    "\n",
    "# Add any other needed identifiers"
   ]
  },
  {
   "cell_type": "code",
   "execution_count": null,
   "id": "8f06aed5",
   "metadata": {},
   "outputs": [],
   "source": [
    "client = bigquery.Client(project=CURATION_PROJECT_ID)"
   ]
  },
  {
   "cell_type": "markdown",
   "id": "3660f631",
   "metadata": {},
   "source": [
    "# EHR Density vs Diversity\n",
    "\n",
    "## EHR Density Equation:\n",
    "2/n + (n-2)/n * (1 - ((n-1)*Var(gi; i= 1,2,..., n-1))**1/2\n",
    "gi = (x_(i+1)-x_i)/(x_n-x_1)\n",
    "n is the number of times that a participant was observed or had a clinical event (condition, laboratory test, medication, or procedure)\n",
    "i is the observation or clinical event number\n",
    "x_(i+1)-x_i is the time gap between two consecutive observations\n",
    "x_n-x_1 is the time gap between the first and last observation\n",
    "\n",
    "equation reference: https://www.ncbi.nlm.nih.gov/pmc/articles/PMC9196700/bin/ocac046_supplementary_data.zip\n",
    "\n",
    "\n"
   ]
  },
  {
   "cell_type": "code",
   "execution_count": null,
   "id": "fb654a6244755597",
   "metadata": {
    "collapsed": false
   },
   "outputs": [],
   "source": [
    "person_event_query = f\"\"\"\n",
    "SELECT ehr.person_id,\n",
    "    ehr.density, \n",
    "    pdr.ubr_sex,\n",
    "    pdr.ubr_sexual_orientation,\n",
    "    pdr.ubr_gender_identity,\n",
    "    pdr.ubr_ethnicity,\n",
    "    pdr.ubr_geography,\n",
    "    pdr.ubr_education,\n",
    "    pdr.ubr_income,\n",
    "    pdr.ubr_sexual_gender_minority,\n",
    "    pdr.ubr_age_at_consent,\n",
    "    pdr.ubr_disability,\n",
    "    pdr.ubr_overall,\n",
    "    bbo.bbo_collection_method,\n",
    "    pss.patient_status\n",
    "FROM `{EHR_OPS_PROJECT_ID}.{EHR_DENSITY_DATASET_ID}.ehr_density` ehr\n",
    "JOIN `{PDR_PROJECT_ID}.{RDR_DATASET_ID}.v_pdr_participant` pdr\n",
    "    ON ehr.person_id = pdr.participant_id\n",
    "JOIN `{PDR_PROJECT_ID}.{RDR_DATASET_ID}.v_pdr_participant_biobank_order` bbo\n",
    "    ON ehr.person_id = bbo.participant_id\n",
    "JOIN \n",
    "    (SELECT\n",
    "        DISTINCT participant_id,\n",
    "        patient_status,\n",
    "        RANK() OVER (PARTITION BY ps.participant_id ORDER BY patient_status_modified DESC) ps_order\n",
    "    FROM `{PDR_PROJECT_ID}.{RDR_DATASET_ID}.v_pdr_participant_patient_status` ps) pss\n",
    "    ON ehr.person_id = pss.participant_id AND ps_order = 1\n",
    "\"\"\""
   ]
  },
  {
   "cell_type": "code",
   "execution_count": null,
   "id": "10bb65868c8a78cd",
   "metadata": {
    "collapsed": false
   },
   "outputs": [],
   "source": [
    "person_ehr_density_df = client.query(person_event_query).to_dataframe()"
   ]
  },
  {
   "cell_type": "code",
   "execution_count": null,
   "id": "585e81a2307c297a",
   "metadata": {
    "collapsed": false
   },
   "outputs": [],
   "source": [
    "person_ehr_density_df"
   ]
  },
  {
   "cell_type": "code",
   "execution_count": null,
   "id": "a90b85f50a6d1b8d",
   "metadata": {
    "collapsed": false
   },
   "outputs": [],
   "source": [
    "person_ehr_density_df.dropna(inplace=True)"
   ]
  },
  {
   "cell_type": "code",
   "execution_count": null,
   "id": "8f76c8d6600a40df",
   "metadata": {
    "collapsed": false
   },
   "outputs": [],
   "source": [
    "mapping_dict = {0: 'RBR', 1: 'UBR', 2: 'SKIP/UNKNOWN'}\n",
    "for i in person_ehr_density_df.columns.values:\n",
    "    if 'ubr' in i:\n",
    "        person_ehr_density_df[i] = person_ehr_density_df[i].astype(object).replace(mapping_dict)"
   ]
  },
  {
   "cell_type": "code",
   "execution_count": null,
   "id": "31573e4c22d616a3",
   "metadata": {
    "collapsed": false
   },
   "outputs": [],
   "source": [
    "person_ehr_density_df"
   ]
  },
  {
   "cell_type": "code",
   "outputs": [],
   "source": [
    "def run_analysis(target_column, df):\n",
    "    summary = df[[target_column, 'density']].groupby(target_column).describe().reset_index()\n",
    "    \n",
    "    n1 = summary['density']['count'][0]\n",
    "    n2 = summary['density']['count'][1]\n",
    "    \n",
    "    mean1 = summary['density']['mean'][0]\n",
    "    mean2 = summary['density']['mean'][1]\n",
    "    \n",
    "    std1 = summary['density']['std'][0]\n",
    "    std2 = summary['density']['std'][1]\n",
    "    \n",
    "    tstat, pvalue = ttest_ind_from_stats(mean1, std1, n1, mean2, std2, n2)\n",
    "    print(f\"t-statistic: {tstat}\")\n",
    "    print(f\"p-value: {pvalue}\")\n",
    "    \n",
    "    alpha = 0.05\n",
    "    if pvalue < alpha:\n",
    "        print(\"The difference between the groups is statistically significant.\")\n",
    "    else:\n",
    "        print(\"There is no significant difference between the groups.\")\n",
    "    \n",
    "    sns.boxplot(data=df, x=target_column, y=\"density\")\n",
    "    return summary, tstat, pvalue\n"
   ],
   "metadata": {
    "collapsed": false
   },
   "id": "b3d5e996b2578e2",
   "execution_count": null
  },
  {
   "cell_type": "markdown",
   "id": "be51ded1",
   "metadata": {},
   "source": [
    "## UBR vs. RBR \n",
    "### (for each individual UBR group as well as specifics on UBR R/E)"
   ]
  },
  {
   "cell_type": "markdown",
   "id": "c3feb50da05afc12",
   "metadata": {
    "collapsed": false
   },
   "source": [
    "#### UBR Overall"
   ]
  },
  {
   "cell_type": "code",
   "execution_count": null,
   "id": "8453f251314739a6",
   "metadata": {
    "collapsed": false
   },
   "outputs": [],
   "source": [
    "summary, tstat, pvalue = run_analysis('ubr_overall', person_ehr_density_df)"
   ]
  },
  {
   "cell_type": "code",
   "outputs": [],
   "source": [
    "summary"
   ],
   "metadata": {
    "collapsed": false
   },
   "id": "e544f3dbf24f90cc",
   "execution_count": null
  },
  {
   "cell_type": "markdown",
   "id": "74aedc7bd3f9d9e0",
   "metadata": {
    "collapsed": false
   },
   "source": [
    "#### UBR SEX"
   ]
  },
  {
   "cell_type": "code",
   "execution_count": null,
   "id": "e1095b41",
   "metadata": {},
   "outputs": [],
   "source": [
    "summary, tstat, pvalue = run_analysis('ubr_sex', person_ehr_density_df)"
   ]
  },
  {
   "cell_type": "code",
   "execution_count": null,
   "id": "3b1357508c5c752b",
   "metadata": {
    "collapsed": false
   },
   "outputs": [],
   "source": [
    "summary"
   ]
  },
  {
   "cell_type": "markdown",
   "id": "ed4ffaec4f06b7e8",
   "metadata": {
    "collapsed": false
   },
   "source": [
    "#### UBR SEXUAL ORIENTATION"
   ]
  },
  {
   "cell_type": "code",
   "execution_count": null,
   "id": "2ac693641b458d0f",
   "metadata": {
    "collapsed": false
   },
   "outputs": [],
   "source": [
    "summary, tstat, pvalue = run_analysis('ubr_sexual_orientation', person_ehr_density_df)"
   ]
  },
  {
   "cell_type": "code",
   "execution_count": null,
   "id": "4429554535cc7d3a",
   "metadata": {
    "collapsed": false
   },
   "outputs": [],
   "source": [
    "summary"
   ]
  },
  {
   "cell_type": "markdown",
   "id": "ecdae235c0a462aa",
   "metadata": {
    "collapsed": false
   },
   "source": [
    "#### UBR SEXUAL GENDER MINORITY"
   ]
  },
  {
   "cell_type": "code",
   "execution_count": null,
   "id": "fe9306fa3ad517d",
   "metadata": {
    "collapsed": false
   },
   "outputs": [],
   "source": [
    "summary, tstat, pvalue = run_analysis('ubr_sexual_gender_minority', person_ehr_density_df)"
   ]
  },
  {
   "cell_type": "code",
   "execution_count": null,
   "id": "711f91fd87cd0b",
   "metadata": {
    "collapsed": false
   },
   "outputs": [],
   "source": [
    "summary"
   ]
  },
  {
   "cell_type": "markdown",
   "id": "6e6f9f6978e7a73e",
   "metadata": {
    "collapsed": false
   },
   "source": [
    "#### UBR GENDER IDENTITY"
   ]
  },
  {
   "cell_type": "code",
   "execution_count": null,
   "id": "5f2f1128dac292f1",
   "metadata": {
    "collapsed": false
   },
   "outputs": [],
   "source": [
    "summary, tstat, pvalue = run_analysis('ubr_gender_identity', person_ehr_density_df)"
   ]
  },
  {
   "cell_type": "code",
   "execution_count": null,
   "id": "6bc9d97ea5b629c3",
   "metadata": {
    "collapsed": false
   },
   "outputs": [],
   "source": [
    "summary"
   ]
  },
  {
   "cell_type": "markdown",
   "id": "a6f4f9ced6375db1",
   "metadata": {
    "collapsed": false
   },
   "source": [
    "#### UBR ETHNICITY"
   ]
  },
  {
   "cell_type": "code",
   "execution_count": null,
   "id": "75ab1a6ab2a64347",
   "metadata": {
    "collapsed": false
   },
   "outputs": [],
   "source": [
    "summary, tstat, pvalue = run_analysis('ubr_ethnicity', person_ehr_density_df)"
   ]
  },
  {
   "cell_type": "code",
   "execution_count": null,
   "id": "35b7e4c3250e7e7",
   "metadata": {
    "collapsed": false
   },
   "outputs": [],
   "source": [
    "summary"
   ]
  },
  {
   "cell_type": "markdown",
   "id": "cd3b4aabda4d48a2",
   "metadata": {
    "collapsed": false
   },
   "source": [
    "#### UBR GEOGRAPHY"
   ]
  },
  {
   "cell_type": "code",
   "execution_count": null,
   "id": "5feae1e46fa7eefd",
   "metadata": {
    "collapsed": false
   },
   "outputs": [],
   "source": [
    "summary, tstat, pvalue = run_analysis('ubr_geography', person_ehr_density_df)"
   ]
  },
  {
   "cell_type": "code",
   "execution_count": null,
   "id": "41ee09fcf45865af",
   "metadata": {
    "collapsed": false
   },
   "outputs": [],
   "source": [
    "summary"
   ]
  },
  {
   "cell_type": "markdown",
   "id": "f0cfcb883a55083d",
   "metadata": {
    "collapsed": false
   },
   "source": [
    "#### UBR EDUCATION"
   ]
  },
  {
   "cell_type": "code",
   "execution_count": null,
   "id": "8c691db32ab3da13",
   "metadata": {
    "collapsed": false
   },
   "outputs": [],
   "source": [
    "summary, tstat, pvalue = run_analysis('ubr_education', person_ehr_density_df)"
   ]
  },
  {
   "cell_type": "code",
   "execution_count": null,
   "id": "51195936a13009c5",
   "metadata": {
    "collapsed": false
   },
   "outputs": [],
   "source": [
    "summary"
   ]
  },
  {
   "cell_type": "markdown",
   "id": "227824ac7593be17",
   "metadata": {
    "collapsed": false
   },
   "source": [
    "#### UBR INCOME"
   ]
  },
  {
   "cell_type": "code",
   "execution_count": null,
   "id": "eef7c5b557e16fb6",
   "metadata": {
    "collapsed": false
   },
   "outputs": [],
   "source": [
    "summary, tstat, pvalue = run_analysis('ubr_income', person_ehr_density_df)"
   ]
  },
  {
   "cell_type": "code",
   "execution_count": null,
   "id": "20d1673e5952f85c",
   "metadata": {
    "collapsed": false
   },
   "outputs": [],
   "source": [
    "summary"
   ]
  },
  {
   "cell_type": "markdown",
   "id": "c69fdeb1ba5bf7d7",
   "metadata": {
    "collapsed": false
   },
   "source": [
    "#### UBR AGE AT CONSENT"
   ]
  },
  {
   "cell_type": "code",
   "execution_count": null,
   "id": "7e1bbbdb1cfa3ff4",
   "metadata": {
    "collapsed": false
   },
   "outputs": [],
   "source": [
    "summary, tstat, pvalue = run_analysis('ubr_age_at_consent', person_ehr_density_df)"
   ]
  },
  {
   "cell_type": "code",
   "execution_count": null,
   "id": "cbb7f8a2509abc08",
   "metadata": {
    "collapsed": false
   },
   "outputs": [],
   "source": [
    "summary"
   ]
  },
  {
   "cell_type": "markdown",
   "id": "39845afe9d690e33",
   "metadata": {
    "collapsed": false
   },
   "source": [
    "## Remote vs. in-person biosample donation"
   ]
  },
  {
   "cell_type": "code",
   "execution_count": null,
   "id": "83e600c2df4b511b",
   "metadata": {
    "collapsed": false
   },
   "outputs": [],
   "source": [
    "summary, tstat, pvalue = run_analysis('bbo_collection_method', person_ehr_density_df)"
   ]
  },
  {
   "cell_type": "code",
   "execution_count": null,
   "id": "1827f4a8e8d9dcdb",
   "metadata": {
    "collapsed": false
   },
   "outputs": [],
   "source": [
    "summary"
   ]
  },
  {
   "cell_type": "markdown",
   "id": "75d960bb7dbfefc5",
   "metadata": {
    "collapsed": false
   },
   "source": [
    "## Patient vs. non-patient status at HPO"
   ]
  },
  {
   "cell_type": "code",
   "execution_count": null,
   "id": "3c8e0d20d8e16e49",
   "metadata": {
    "collapsed": false
   },
   "outputs": [],
   "source": [
    "summary, tstat, pvalue = run_analysis('patient_status', person_ehr_density_df)"
   ]
  },
  {
   "cell_type": "code",
   "execution_count": null,
   "id": "b6508d42be8aa2b3",
   "metadata": {
    "collapsed": false
   },
   "outputs": [],
   "source": [
    "sns.boxplot(data=person_ehr_density_df, x=\"patient_status\", y=\"density\")"
   ]
  },
  {
   "cell_type": "markdown",
   "source": [
    "### EHR Density by Total Number of Records"
   ],
   "metadata": {
    "collapsed": false
   },
   "id": "985ec761dbb58179"
  },
  {
   "cell_type": "code",
   "outputs": [],
   "source": [
    "import matplotlib.pyplot as plt"
   ],
   "metadata": {
    "collapsed": false
   },
   "id": "f5807c6c41994073",
   "execution_count": null
  },
  {
   "cell_type": "code",
   "outputs": [],
   "source": [
    "ehr_density_count_query = f\"\"\"\n",
    "SELECT total_events, density \n",
    " FROM `{EHR_OPS_PROJECT_ID}.{EHR_DENSITY_DATASET_ID}.ehr_density`\n",
    "\"\"\""
   ],
   "metadata": {
    "collapsed": false
   },
   "id": "eb836a828d107d4d",
   "execution_count": null
  },
  {
   "cell_type": "code",
   "outputs": [],
   "source": [
    "ehr_density_count_df = client.query(ehr_density_count_query).to_dataframe()"
   ],
   "metadata": {
    "collapsed": false
   },
   "id": "47d22dba519f516d",
   "execution_count": null
  },
  {
   "cell_type": "code",
   "outputs": [],
   "source": [
    "ehr_density_count_df"
   ],
   "metadata": {
    "collapsed": false
   },
   "id": "be9a313dd62af4bf",
   "execution_count": null
  },
  {
   "cell_type": "code",
   "outputs": [],
   "source": [
    "ehr_density_mean = ehr_density_count_df.groupby('total_events')['density'].describe().reset_index()"
   ],
   "metadata": {
    "collapsed": false
   },
   "id": "b48b60054425303",
   "execution_count": null
  },
  {
   "cell_type": "code",
   "outputs": [],
   "source": [
    "ehr_density_mean"
   ],
   "metadata": {
    "collapsed": false
   },
   "id": "fe310cae4c1f4e91",
   "execution_count": null
  },
  {
   "cell_type": "code",
   "outputs": [],
   "source": [
    "import plotly.express as px\n",
    "\n",
    "fig = px.line(ehr_density_mean, x=\"total_events\", y=\"count\", log_x=True)\n",
    "fig.update_yaxes(title_text=\"Person Count\")\n",
    "fig.update_xaxes(title_text=\"Number of Events per Person\")\n",
    "fig.show()"
   ],
   "metadata": {
    "collapsed": false
   },
   "id": "eb6c42da3374b9aa",
   "execution_count": null
  },
  {
   "cell_type": "code",
   "outputs": [],
   "source": [
    "sns.set_theme(style=\"white\")\n",
    "plt.xscale(\"log\")\n",
    "sns.scatterplot(data=ehr_density_count_df, x=\"total_events\", y=\"density\", s=1, edgecolor='None')"
   ],
   "metadata": {
    "collapsed": false
   },
   "id": "c285263120ff9455",
   "execution_count": null
  },
  {
   "cell_type": "code",
   "outputs": [],
   "source": [
    "ehr_density_count_df"
   ],
   "metadata": {
    "collapsed": false
   },
   "id": "d500f0bde5d03283",
   "execution_count": null
  },
  {
   "cell_type": "code",
   "outputs": [],
   "source": [
    "import plotly.express as px\n",
    "fig = px.scatter(ehr_density_count_df, x=\"total_events\", y=\"density\", log_x=True)\n",
    "fig.show()"
   ],
   "metadata": {
    "collapsed": false
   },
   "id": "8742bdb4d655050c",
   "execution_count": null
  },
  {
   "cell_type": "markdown",
   "id": "791294230e4fb856",
   "metadata": {
    "collapsed": false
   },
   "source": [
    "## The average number of EHR records per participant across each domain\n",
    "#### - Conditions\n",
    "#### - Procedures\n",
    "#### - Drugs\n",
    "#### - Labs and measurements\n",
    "#### - Visits\n",
    "#### - Observations\n",
    "#### - Devices"
   ]
  },
  {
   "cell_type": "code",
   "execution_count": null,
   "id": "f6b8413115724031",
   "metadata": {
    "collapsed": false
   },
   "outputs": [],
   "source": [
    "event_per_person_query = f\"\"\"\n",
    "SELECT DISTINCT \n",
    "    person_id, \n",
    "    event_type, \n",
    "    count(distinct event_id) AS event_cnt_per_person\n",
    "FROM `{EHR_OPS_PROJECT_ID}.{EHR_DENSITY_DATASET_ID}.unioned_event`\n",
    "GROUP BY 1,2\n",
    "\"\"\""
   ]
  },
  {
   "cell_type": "code",
   "execution_count": null,
   "id": "98ba250fb317bdf6",
   "metadata": {
    "collapsed": false
   },
   "outputs": [],
   "source": [
    "event_per_person_df = client.query(event_per_person_query).to_dataframe()"
   ]
  },
  {
   "cell_type": "code",
   "execution_count": null,
   "id": "dbcdb81ed59f2d14",
   "metadata": {
    "collapsed": false
   },
   "outputs": [],
   "source": [
    "event_per_person_df[['event_type', 'event_cnt_per_person']].groupby('event_type').mean()"
   ]
  },
  {
   "cell_type": "markdown",
   "id": "547162d1af7cc098",
   "metadata": {
    "collapsed": false
   },
   "source": [
    "## The average duration between the first and last EHR record per participant across each of the above domains"
   ]
  },
  {
   "cell_type": "code",
   "execution_count": null,
   "id": "defec5425e030c70",
   "metadata": {
    "collapsed": false
   },
   "outputs": [],
   "source": [
    "ehr_duration_per_person_query = f\"\"\"\n",
    "SELECT \n",
    "  person_id, \n",
    "  event_type,\n",
    "  MAX(event_datetime) as max_event_datetime, \n",
    "  MIN(event_datetime) as min_event_datetime,\n",
    "  TIMESTAMP_DIFF(MAX(event_datetime), MIN(event_datetime), DAY) AS total_days_diff\n",
    "FROM `{EHR_OPS_PROJECT_ID}.{EHR_DENSITY_DATASET_ID}.unioned_event`\n",
    "GROUP BY 1,2\n",
    "\"\"\""
   ]
  },
  {
   "cell_type": "code",
   "execution_count": null,
   "id": "39939571d1fdb0",
   "metadata": {
    "collapsed": false
   },
   "outputs": [],
   "source": [
    "ehr_duration_per_person_df = client.query(ehr_duration_per_person_query).to_dataframe()"
   ]
  },
  {
   "cell_type": "code",
   "execution_count": null,
   "id": "3282fffdb7e2fcd1",
   "metadata": {
    "collapsed": false
   },
   "outputs": [],
   "source": [
    "ehr_duration_per_person_df.groupby('event_type')['total_days_diff'].mean()"
   ]
  }
 ],
 "metadata": {
  "kernelspec": {
   "display_name": "Python 3 (ipykernel)",
   "language": "python",
   "name": "python3"
  },
  "language_info": {
   "codemirror_mode": {
    "name": "ipython",
    "version": 3
   },
   "file_extension": ".py",
   "mimetype": "text/x-python",
   "name": "python",
   "nbconvert_exporter": "python",
   "pygments_lexer": "ipython3",
   "version": "3.11.7"
  }
 },
 "nbformat": 4,
 "nbformat_minor": 5
}
